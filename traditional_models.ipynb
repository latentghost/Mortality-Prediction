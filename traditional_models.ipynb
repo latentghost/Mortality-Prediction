{
 "cells": [
  {
   "cell_type": "code",
   "execution_count": 1,
   "metadata": {},
   "outputs": [
    {
     "name": "stderr",
     "output_type": "stream",
     "text": [
      "Using `tqdm.autonotebook.tqdm` in notebook mode. Use `tqdm.tqdm` instead to force console mode (e.g. in jupyter console)\n"
     ]
    }
   ],
   "source": [
    "import pandas as pd\n",
    "import shap\n",
    "\n",
    "from sklearn.ensemble import RandomForestClassifier\n",
    "from sklearn.ensemble import ExtraTreesClassifier\n",
    "from sklearn.linear_model import LogisticRegression\n",
    "from sklearn.linear_model import LinearRegression\n",
    "\n",
    "from sklearn.ensemble import AdaBoostClassifier\n",
    "from xgboost import XGBClassifier\n",
    "from catboost import CatBoostClassifier\n",
    "\n",
    "from baseline_package.base_predictor import BasePredictor"
   ]
  },
  {
   "cell_type": "code",
   "execution_count": 2,
   "metadata": {},
   "outputs": [],
   "source": [
    "results = []"
   ]
  },
  {
   "cell_type": "code",
   "execution_count": 3,
   "metadata": {},
   "outputs": [],
   "source": [
    "d_path = \"dataset/preprocessed.csv\""
   ]
  },
  {
   "cell_type": "code",
   "execution_count": 4,
   "metadata": {},
   "outputs": [
    {
     "name": "stderr",
     "output_type": "stream",
     "text": [
      "X has feature names, but RandomForestClassifier was fitted without feature names\n"
     ]
    }
   ],
   "source": [
    "rsf = RandomForestClassifier(\n",
    "    criterion='entropy',\n",
    "    n_estimators=120,\n",
    "    max_depth=None,\n",
    "    min_samples_leaf=2,\n",
    "    min_samples_split=4,\n",
    "    max_leaf_nodes=None,\n",
    "    bootstrap=False,\n",
    "    max_features='sqrt',\n",
    "    min_weight_fraction_leaf=0.0,\n",
    "    class_weight='balanced',\n",
    "    warm_start=False,\n",
    "    ccp_alpha=0.0\n",
    ")\n",
    "\n",
    "param_grid_rsf = {\n",
    "    'criterion' : ['entropy','log_loss'],\n",
    "    'n_estimators' : [50,100,120,150],\n",
    "    'max_depth' : [None],\n",
    "    'min_samples_split' : [4,5,6],\n",
    "    'min_samples_leaf' : [2,3,4],\n",
    "    'max_leaf_nodes' : [None],\n",
    "    'bootstrap' : [False],\n",
    "    'max_features' : ['sqrt','log2'],\n",
    "    'min_weight_fraction_leaf' : [0.0],\n",
    "    'class_weight' : [{0:1, 1:5},'balanced'],\n",
    "    'warm_start' : [False],\n",
    "    'ccp_alpha' : [0.005,0.01]\n",
    "}\n",
    "\n",
    "bp_rsf = BasePredictor(model = rsf, d_path = d_path, target = 'mortality_30_days', param_grid = param_grid_rsf, n_splits = 5)\n",
    "bp_rsf.run(features = None, select_path = None)"
   ]
  },
  {
   "cell_type": "code",
   "execution_count": 5,
   "metadata": {},
   "outputs": [
    {
     "data": {
      "text/plain": [
       "{'bootstrap': False,\n",
       " 'ccp_alpha': 0.01,\n",
       " 'class_weight': 'balanced',\n",
       " 'criterion': 'entropy',\n",
       " 'max_depth': None,\n",
       " 'max_features': 'sqrt',\n",
       " 'max_leaf_nodes': None,\n",
       " 'min_samples_leaf': 3,\n",
       " 'min_samples_split': 5,\n",
       " 'min_weight_fraction_leaf': 0.0,\n",
       " 'n_estimators': 50,\n",
       " 'warm_start': False}"
      ]
     },
     "execution_count": 5,
     "metadata": {},
     "output_type": "execute_result"
    }
   ],
   "source": [
    "bp_rsf.best_params"
   ]
  },
  {
   "cell_type": "code",
   "execution_count": 6,
   "metadata": {},
   "outputs": [
    {
     "data": {
      "text/plain": [
       "[61.76470588235294,\n",
       " 73.52941176470588,\n",
       " 65.71428571428571,\n",
       " 54.285714285714285,\n",
       " 62.857142857142854]"
      ]
     },
     "execution_count": 6,
     "metadata": {},
     "output_type": "execute_result"
    }
   ],
   "source": [
    "bp_rsf.sens_re"
   ]
  },
  {
   "cell_type": "code",
   "execution_count": 7,
   "metadata": {},
   "outputs": [
    {
     "data": {
      "text/plain": [
       "[81.9327731092437,\n",
       " 79.41176470588235,\n",
       " 72.57383966244726,\n",
       " 81.85654008438819,\n",
       " 80.59071729957806]"
      ]
     },
     "execution_count": 7,
     "metadata": {},
     "output_type": "execute_result"
    }
   ],
   "source": [
    "bp_rsf.specs_re"
   ]
  },
  {
   "cell_type": "code",
   "execution_count": 8,
   "metadata": {},
   "outputs": [
    {
     "data": {
      "text/plain": [
       "[array([[195,  43],\n",
       "        [ 13,  21]]),\n",
       " array([[189,  49],\n",
       "        [  9,  25]]),\n",
       " array([[172,  65],\n",
       "        [ 12,  23]]),\n",
       " array([[194,  43],\n",
       "        [ 16,  19]]),\n",
       " array([[191,  46],\n",
       "        [ 13,  22]])]"
      ]
     },
     "execution_count": 8,
     "metadata": {},
     "output_type": "execute_result"
    }
   ],
   "source": [
    "bp_rsf.confs_re"
   ]
  },
  {
   "cell_type": "code",
   "execution_count": 9,
   "metadata": {},
   "outputs": [
    {
     "data": {
      "text/plain": [
       "{'bootstrap': False,\n",
       " 'ccp_alpha': 0.01,\n",
       " 'class_weight': 'balanced',\n",
       " 'criterion': 'entropy',\n",
       " 'max_depth': None,\n",
       " 'max_features': 'sqrt',\n",
       " 'max_leaf_nodes': None,\n",
       " 'min_samples_leaf': 3,\n",
       " 'min_samples_split': 5,\n",
       " 'min_weight_fraction_leaf': 0.0,\n",
       " 'n_estimators': 50,\n",
       " 'warm_start': False}"
      ]
     },
     "execution_count": 9,
     "metadata": {},
     "output_type": "execute_result"
    }
   ],
   "source": [
    "bp_rsf.best_params"
   ]
  },
  {
   "cell_type": "code",
   "execution_count": 10,
   "metadata": {},
   "outputs": [
    {
     "data": {
      "text/plain": [
       "[0.8187059577194107,\n",
       " 0.8164712878015631,\n",
       " 0.7600832262688981,\n",
       " 0.806725959601304,\n",
       " 0.8097204901378028]"
      ]
     },
     "execution_count": 10,
     "metadata": {},
     "output_type": "execute_result"
    }
   ],
   "source": [
    "bp_rsf.f1s_re"
   ]
  },
  {
   "cell_type": "code",
   "execution_count": 11,
   "metadata": {},
   "outputs": [
    {
     "data": {
      "image/png": "[encoded data removed]",
      "text/plain": [
       "<Figure size 576x568.8 with 2 Axes>"
      ]
     },
     "metadata": {
      "needs_background": "light"
     },
     "output_type": "display_data"
    }
   ],
   "source": [
    "rsf_shap_re = shap.TreeExplainer(bp_rsf.model)\n",
    "shap_vals = rsf_shap_re.shap_values(bp_rsf.data_re['X'])\n",
    "\n",
    "shap.summary_plot(shap_vals[1],bp_rsf.data_re['X'].astype('float64'))"
   ]
  },
  {
   "cell_type": "code",
   "execution_count": 12,
   "metadata": {},
   "outputs": [
    {
     "data": {
      "text/plain": [
       "[59.45945945945946]"
      ]
     },
     "execution_count": 12,
     "metadata": {},
     "output_type": "execute_result"
    }
   ],
   "source": [
    "bp_rsf.sens_un"
   ]
  },
  {
   "cell_type": "code",
   "execution_count": 13,
   "metadata": {},
   "outputs": [
    {
     "data": {
      "text/plain": [
       "[76.23762376237624]"
      ]
     },
     "execution_count": 13,
     "metadata": {},
     "output_type": "execute_result"
    }
   ],
   "source": [
    "bp_rsf.specs_un"
   ]
  },
  {
   "cell_type": "code",
   "execution_count": 14,
   "metadata": {},
   "outputs": [
    {
     "data": {
      "text/plain": [
       "[0.7865031984511988]"
      ]
     },
     "execution_count": 14,
     "metadata": {},
     "output_type": "execute_result"
    }
   ],
   "source": [
    "bp_rsf.f1s_un"
   ]
  },
  {
   "cell_type": "code",
   "execution_count": 15,
   "metadata": {},
   "outputs": [
    {
     "data": {
      "text/plain": [
       "[array([[231,  72],\n",
       "        [ 15,  22]])]"
      ]
     },
     "execution_count": 15,
     "metadata": {},
     "output_type": "execute_result"
    }
   ],
   "source": [
    "bp_rsf.confs_un"
   ]
  },
  {
   "cell_type": "code",
   "execution_count": 16,
   "metadata": {},
   "outputs": [
    {
     "name": "stderr",
     "output_type": "stream",
     "text": [
      "\n",
      "520 fits failed out of a total of 2600.\n",
      "The score on these train-test partitions for these parameters will be set to nan.\n",
      "If these failures are not expected, you can try to debug them by setting error_score='raise'.\n",
      "\n",
      "Below are more details about the failures:\n",
      "--------------------------------------------------------------------------------\n",
      "520 fits failed with the following error:\n",
      "Traceback (most recent call last):\n",
      "  File \"/Library/Frameworks/Python.framework/Versions/3.10/lib/python3.10/site-packages/sklearn/model_selection/_validation.py\", line 686, in _fit_and_score\n",
      "    estimator.fit(X_train, y_train, **fit_params)\n",
      "  File \"/Library/Frameworks/Python.framework/Versions/3.10/lib/python3.10/site-packages/sklearn/linear_model/_logistic.py\", line 1160, in fit\n",
      "    self._validate_params()\n",
      "  File \"/Library/Frameworks/Python.framework/Versions/3.10/lib/python3.10/site-packages/sklearn/base.py\", line 600, in _validate_params\n",
      "    validate_parameter_constraints(\n",
      "  File \"/Library/Frameworks/Python.framework/Versions/3.10/lib/python3.10/site-packages/sklearn/utils/_param_validation.py\", line 97, in validate_parameter_constraints\n",
      "    raise InvalidParameterError(\n",
      "sklearn.utils._param_validation.InvalidParameterError: The 'class_weight' parameter of LogisticRegression must be an instance of 'dict', a str among {'balanced'} or None. Got 'balanced_subsample' instead.\n",
      "\n",
      "One or more of the test scores are non-finite: [0.50194243 0.50194243 0.5014234  0.5014234  0.50194243 0.50194243\n",
      " 0.5014234  0.5014234  0.35850237 0.35850237 0.35850237 0.35850237\n",
      " 0.35850237 0.35850237 0.35850237 0.35850237 0.14458278 0.14458278\n",
      " 0.14458278 0.14458278 0.14458278 0.14458278 0.14458278 0.14458278\n",
      " 0.49668769 0.49668769 0.49730558 0.49730558 0.49668769 0.49668769\n",
      " 0.49730558 0.49730558        nan        nan        nan        nan\n",
      "        nan        nan        nan        nan 0.5014234  0.5014234\n",
      " 0.5014234  0.5014234  0.5014234  0.5014234  0.5014234  0.5014234\n",
      " 0.35850237 0.35850237 0.35850237 0.35850237 0.35850237 0.35850237\n",
      " 0.35850237 0.35850237 0.14458278 0.14458278 0.14458278 0.14458278\n",
      " 0.14458278 0.14458278 0.14458278 0.14458278 0.49614394 0.49614394\n",
      " 0.49614394 0.49614394 0.49614394 0.49614394 0.49614394 0.49614394\n",
      "        nan        nan        nan        nan        nan        nan\n",
      "        nan        nan 0.5014234  0.5014234  0.5014234  0.5014234\n",
      " 0.5014234  0.5014234  0.5014234  0.5014234  0.35850237 0.35850237\n",
      " 0.35850237 0.35850237 0.35850237 0.35850237 0.35850237 0.35850237\n",
      " 0.14458278 0.14458278 0.14458278 0.14458278 0.14458278 0.14458278\n",
      " 0.14458278 0.14458278 0.49614394 0.49614394 0.49614394 0.49614394\n",
      " 0.49614394 0.49614394 0.49614394 0.49614394        nan        nan\n",
      "        nan        nan        nan        nan        nan        nan\n",
      " 0.50096529 0.50096529 0.50096529 0.50096529 0.50096529 0.50096529\n",
      " 0.50096529 0.50096529 0.35850237 0.35850237 0.35850237 0.35850237\n",
      " 0.35850237 0.35850237 0.35850237 0.35850237 0.14458278 0.14458278\n",
      " 0.14458278 0.14458278 0.14458278 0.14458278 0.14458278 0.14458278\n",
      " 0.49552605 0.49552605 0.49552605 0.49552605 0.49552605 0.49552605\n",
      " 0.49552605 0.49552605        nan        nan        nan        nan\n",
      "        nan        nan        nan        nan 0.50096529 0.50096529\n",
      " 0.50096529 0.50096529 0.50096529 0.50096529 0.50096529 0.50096529\n",
      " 0.35850237 0.35850237 0.35850237 0.35850237 0.35850237 0.35850237\n",
      " 0.35850237 0.35850237 0.14458278 0.14458278 0.14458278 0.14458278\n",
      " 0.14458278 0.14458278 0.14458278 0.14458278 0.49552605 0.49552605\n",
      " 0.49552605 0.49552605 0.49552605 0.49552605 0.49552605 0.49552605\n",
      "        nan        nan        nan        nan        nan        nan\n",
      "        nan        nan 0.49566089 0.49566089 0.49566089 0.49566089\n",
      " 0.49566089 0.49566089 0.49566089 0.49566089 0.35850237 0.35850237\n",
      " 0.35850237 0.35850237 0.35850237 0.35850237 0.35850237 0.35850237\n",
      " 0.14208294 0.14208294 0.14208294 0.14208294 0.14208294 0.14208294\n",
      " 0.14208294 0.14208294 0.4949823  0.4949823  0.4949823  0.4949823\n",
      " 0.4949823  0.4949823  0.4949823  0.4949823         nan        nan\n",
      "        nan        nan        nan        nan        nan        nan\n",
      " 0.49516658 0.49516658 0.49516658 0.49516658 0.49516658 0.49516658\n",
      " 0.49516658 0.49516658 0.3581166  0.3581166  0.3581166  0.3581166\n",
      " 0.3581166  0.3581166  0.3581166  0.3581166  0.14126732 0.14126732\n",
      " 0.14126732 0.14126732 0.14126732 0.14126732 0.14126732 0.14126732\n",
      " 0.49436441 0.49436441 0.49436441 0.49436441 0.49436441 0.49436441\n",
      " 0.49436441 0.49436441        nan        nan        nan        nan\n",
      "        nan        nan        nan        nan 0.50014412 0.50014412\n",
      " 0.50014412 0.50014412 0.50014412 0.50014412 0.50014412 0.50014412\n",
      " 0.3470738  0.3470738  0.34129031 0.34129031 0.3470738  0.3470738\n",
      " 0.34129031 0.34129031 0.14042699 0.14042699 0.14126732 0.14126732\n",
      " 0.14042699 0.14042699 0.14126732 0.14126732 0.49380986 0.49380986\n",
      " 0.49380986 0.49380986 0.49380986 0.49380986 0.49380986 0.49380986\n",
      "        nan        nan        nan        nan        nan        nan\n",
      "        nan        nan 0.49971013 0.49971013 0.49971013 0.49971013\n",
      " 0.49971013 0.49971013 0.49971013 0.49971013 0.33000953 0.33000953\n",
      " 0.33000953 0.33000953 0.33000953 0.33000953 0.33000953 0.33000953\n",
      " 0.13876749 0.13876749 0.13876749 0.13876749 0.13876749 0.13876749\n",
      " 0.13876749 0.13876749 0.49284542 0.49284542 0.49238731 0.49238731\n",
      " 0.49284542 0.49284542 0.49238731 0.49238731        nan        nan\n",
      "        nan        nan        nan        nan        nan        nan\n",
      " 0.49867206 0.49867206 0.49867206 0.49867206 0.49867206 0.49867206\n",
      " 0.49867206 0.49867206 0.33025064 0.33025064 0.33025064 0.33025064\n",
      " 0.33025064 0.33025064 0.33025064 0.33025064 0.13795187 0.13795187\n",
      " 0.13795187 0.13795187 0.13795187 0.13795187 0.13795187 0.13795187\n",
      " 0.49700916 0.49700916 0.49700916 0.49700916 0.49700916 0.49700916\n",
      " 0.49700916 0.49700916        nan        nan        nan        nan\n",
      "        nan        nan        nan        nan 0.49814033 0.49814033\n",
      " 0.49814033 0.49814033 0.49814033 0.49814033 0.49814033 0.49814033\n",
      " 0.29182098 0.29182098 0.29182098 0.29182098 0.29182098 0.29182098\n",
      " 0.29182098 0.29182098 0.13631647 0.13631647 0.13550085 0.13550085\n",
      " 0.13631647 0.13631647 0.13550085 0.13550085 0.49516101 0.49516101\n",
      " 0.49516101 0.49516101 0.49516101 0.49516101 0.49516101 0.49516101\n",
      "        nan        nan        nan        nan        nan        nan\n",
      "        nan        nan 0.49282323 0.49282323 0.49282323 0.49282323\n",
      " 0.49282323 0.49282323 0.49282323 0.49282323 0.28109475 0.28109475\n",
      " 0.28109475 0.28109475 0.28109475 0.28109475 0.28109475 0.28109475\n",
      " 0.13465697 0.13465697 0.13465697 0.13465697 0.13465697 0.13465697\n",
      " 0.13465697 0.13465697 0.49411093 0.49411093 0.49411093 0.49411093\n",
      " 0.49411093 0.49411093 0.49411093 0.49411093        nan        nan\n",
      "        nan        nan        nan        nan        nan        nan\n",
      " 0.49184609 0.49184609 0.49184609 0.49184609 0.49184609 0.49184609\n",
      " 0.49184609 0.49184609 0.26427159 0.26427159 0.26427159 0.26427159\n",
      " 0.26427159 0.26427159 0.26427159 0.26427159 0.12881281 0.12881281\n",
      " 0.12881281 0.12881281 0.12881281 0.12881281 0.12881281 0.12881281\n",
      " 0.49643784 0.49643784 0.49643784 0.49643784 0.49643784 0.49643784\n",
      " 0.49643784 0.49643784        nan        nan        nan        nan\n",
      "        nan        nan        nan        nan]\n",
      "X has feature names, but LogisticRegression was fitted without feature names\n"
     ]
    }
   ],
   "source": [
    "log_r = LogisticRegression()\n",
    "\n",
    "param_grid_logr = {\n",
    "    'penalty' : ['l2'],\n",
    "    'dual' : [False],\n",
    "    'tol' : [1e-3,1e-4],\n",
    "    'C' : [0.8,0.75,0.7,0.65,0.6,0.55,0.5,0.45,0.4,0.35,0.3,0.25,0.2],\n",
    "    'fit_intercept' : [True],\n",
    "    'class_weight' : [{0:1, 1:5},{0:1,1:2},{0:1, 1:42},'balanced','balanced_subsample'],\n",
    "    'solver' : ['lbfgs','newton-cg'],\n",
    "    'max_iter' : [5000,1000],\n",
    "    'warm_start' : [False],\n",
    "    'n_jobs' : [None],\n",
    "    'multi_class' : ['auto'],\n",
    "    'l1_ratio' : [None],\n",
    "}\n",
    "\n",
    "bp_logr = BasePredictor(model = log_r, d_path = d_path, target = 'mortality_30_days', param_grid = param_grid_logr, n_splits = 5)\n",
    "bp_logr.run(features = None, select_path = None)"
   ]
  },
  {
   "cell_type": "code",
   "execution_count": 17,
   "metadata": {},
   "outputs": [
    {
     "data": {
      "text/plain": [
       "{'C': 0.8,\n",
       " 'class_weight': {0: 1, 1: 5},\n",
       " 'dual': False,\n",
       " 'fit_intercept': True,\n",
       " 'l1_ratio': None,\n",
       " 'max_iter': 5000,\n",
       " 'multi_class': 'auto',\n",
       " 'n_jobs': None,\n",
       " 'penalty': 'l2',\n",
       " 'solver': 'lbfgs',\n",
       " 'tol': 0.001,\n",
       " 'warm_start': False}"
      ]
     },
     "execution_count": 17,
     "metadata": {},
     "output_type": "execute_result"
    }
   ],
   "source": [
    "bp_logr.best_params"
   ]
  },
  {
   "cell_type": "code",
   "execution_count": 18,
   "metadata": {},
   "outputs": [
    {
     "data": {
      "text/plain": [
       "[58.82352941176471,\n",
       " 61.76470588235294,\n",
       " 54.285714285714285,\n",
       " 60.0,\n",
       " 54.285714285714285]"
      ]
     },
     "execution_count": 18,
     "metadata": {},
     "output_type": "execute_result"
    }
   ],
   "source": [
    "bp_logr.sens_re"
   ]
  },
  {
   "cell_type": "code",
   "execution_count": 19,
   "metadata": {},
   "outputs": [
    {
     "data": {
      "text/plain": [
       "[91.59663865546219,\n",
       " 89.07563025210085,\n",
       " 82.27848101265823,\n",
       " 85.23206751054853,\n",
       " 85.23206751054853]"
      ]
     },
     "execution_count": 19,
     "metadata": {},
     "output_type": "execute_result"
    }
   ],
   "source": [
    "bp_logr.specs_re"
   ]
  },
  {
   "cell_type": "code",
   "execution_count": 20,
   "metadata": {},
   "outputs": [
    {
     "data": {
      "text/plain": [
       "[0.879269695227142,\n",
       " 0.8661107111431086,\n",
       " 0.80945268732493,\n",
       " 0.836463546192802,\n",
       " 0.828599209778985]"
      ]
     },
     "execution_count": 20,
     "metadata": {},
     "output_type": "execute_result"
    }
   ],
   "source": [
    "bp_logr.f1s_re"
   ]
  },
  {
   "cell_type": "code",
   "execution_count": 21,
   "metadata": {},
   "outputs": [
    {
     "data": {
      "text/plain": [
       "[array([[218,  20],\n",
       "        [ 14,  20]]),\n",
       " array([[212,  26],\n",
       "        [ 13,  21]]),\n",
       " array([[195,  42],\n",
       "        [ 16,  19]]),\n",
       " array([[202,  35],\n",
       "        [ 14,  21]]),\n",
       " array([[202,  35],\n",
       "        [ 16,  19]])]"
      ]
     },
     "execution_count": 21,
     "metadata": {},
     "output_type": "execute_result"
    }
   ],
   "source": [
    "bp_logr.confs_re"
   ]
  },
  {
   "cell_type": "code",
   "execution_count": 22,
   "metadata": {},
   "outputs": [
    {
     "data": {
      "text/plain": [
       "[54.054054054054056]"
      ]
     },
     "execution_count": 22,
     "metadata": {},
     "output_type": "execute_result"
    }
   ],
   "source": [
    "bp_logr.sens_un"
   ]
  },
  {
   "cell_type": "code",
   "execution_count": 23,
   "metadata": {},
   "outputs": [
    {
     "data": {
      "text/plain": [
       "[86.79867986798679]"
      ]
     },
     "execution_count": 23,
     "metadata": {},
     "output_type": "execute_result"
    }
   ],
   "source": [
    "bp_logr.specs_un"
   ]
  },
  {
   "cell_type": "code",
   "execution_count": 24,
   "metadata": {},
   "outputs": [
    {
     "data": {
      "text/plain": [
       "[0.8489216917160668]"
      ]
     },
     "execution_count": 24,
     "metadata": {},
     "output_type": "execute_result"
    }
   ],
   "source": [
    "bp_logr.f1s_un"
   ]
  },
  {
   "cell_type": "code",
   "execution_count": 25,
   "metadata": {},
   "outputs": [
    {
     "data": {
      "text/plain": [
       "[array([[263,  40],\n",
       "        [ 17,  20]])]"
      ]
     },
     "execution_count": 25,
     "metadata": {},
     "output_type": "execute_result"
    }
   ],
   "source": [
    "bp_logr.confs_un"
   ]
  },
  {
   "cell_type": "code",
   "execution_count": 40,
   "metadata": {},
   "outputs": [
    {
     "name": "stderr",
     "output_type": "stream",
     "text": [
      "X has feature names, but ExtraTreesClassifier was fitted without feature names\n"
     ]
    }
   ],
   "source": [
    "etc = ExtraTreesClassifier(\n",
    "    criterion='entropy',\n",
    "    bootstrap=False,\n",
    "    class_weight='balanced',\n",
    "    max_depth=None,\n",
    "    max_features='sqrt',\n",
    "    max_leaf_nodes=None,\n",
    "    min_impurity_decrease=0.0,\n",
    "    min_samples_leaf=1,\n",
    "    min_samples_split=3,\n",
    "    min_weight_fraction_leaf=0.0,\n",
    "    random_state=0,\n",
    "    warm_start=False\n",
    ")\n",
    "\n",
    "param_grid_etc = {\n",
    "    'criterion' : ['gini','entropy','log_loss'],\n",
    "    'max_depth' : [None],\n",
    "    'min_samples_split' : [2,3,4],\n",
    "    'min_samples_leaf' : [1,2,3],\n",
    "    'min_weight_fraction_leaf' : [0.0],\n",
    "    'max_features' : ['sqrt','log2'],\n",
    "    'max_leaf_nodes' : [None],\n",
    "    'min_impurity_decrease' : [0.0],\n",
    "    'bootstrap' : [True, False],\n",
    "    'class_weight' : [{0:1,1:1},{0:1,1:2},{0:1,1:5},'balanced'],\n",
    "    'warm_start' : [False],\n",
    "    'ccp_alpha' : [0.0,0.005],\n",
    "    'random_state' : [0]\n",
    "}\n",
    "\n",
    "bp_etc = BasePredictor(model = etc, d_path = d_path, target =  'mortality_30_days', param_grid = param_grid_etc, n_splits = 5)\n",
    "bp_etc.run(features = None, select_path = None)"
   ]
  },
  {
   "cell_type": "code",
   "execution_count": 41,
   "metadata": {},
   "outputs": [
    {
     "data": {
      "text/plain": [
       "{'bootstrap': False,\n",
       " 'ccp_alpha': 0.005,\n",
       " 'class_weight': 'balanced',\n",
       " 'criterion': 'entropy',\n",
       " 'max_depth': None,\n",
       " 'max_features': 'sqrt',\n",
       " 'max_leaf_nodes': None,\n",
       " 'min_impurity_decrease': 0.0,\n",
       " 'min_samples_leaf': 1,\n",
       " 'min_samples_split': 3,\n",
       " 'min_weight_fraction_leaf': 0.0,\n",
       " 'random_state': 0,\n",
       " 'warm_start': False}"
      ]
     },
     "execution_count": 41,
     "metadata": {},
     "output_type": "execute_result"
    }
   ],
   "source": [
    "bp_etc.best_params"
   ]
  },
  {
   "cell_type": "code",
   "execution_count": 42,
   "metadata": {},
   "outputs": [
    {
     "data": {
      "text/plain": [
       "[67.64705882352942,\n",
       " 52.94117647058824,\n",
       " 60.0,\n",
       " 62.857142857142854,\n",
       " 57.14285714285714]"
      ]
     },
     "execution_count": 42,
     "metadata": {},
     "output_type": "execute_result"
    }
   ],
   "source": [
    "bp_etc.sens_re"
   ]
  },
  {
   "cell_type": "code",
   "execution_count": 43,
   "metadata": {},
   "outputs": [
    {
     "data": {
      "text/plain": [
       "[88.65546218487394,\n",
       " 84.45378151260505,\n",
       " 80.59071729957806,\n",
       " 83.12236286919831,\n",
       " 83.54430379746836]"
      ]
     },
     "execution_count": 43,
     "metadata": {},
     "output_type": "execute_result"
    }
   ],
   "source": [
    "bp_etc.specs_re"
   ]
  },
  {
   "cell_type": "code",
   "execution_count": 44,
   "metadata": {},
   "outputs": [
    {
     "data": {
      "text/plain": [
       "[0.8711697722567289,\n",
       " 0.8236387208297321,\n",
       " 0.8060287463401652,\n",
       " 0.8263809467604935,\n",
       " 0.8215206508135169]"
      ]
     },
     "execution_count": 44,
     "metadata": {},
     "output_type": "execute_result"
    }
   ],
   "source": [
    "bp_etc.f1s_re"
   ]
  },
  {
   "cell_type": "code",
   "execution_count": 45,
   "metadata": {},
   "outputs": [
    {
     "data": {
      "text/plain": [
       "[array([[211,  27],\n",
       "        [ 11,  23]]),\n",
       " array([[201,  37],\n",
       "        [ 16,  18]]),\n",
       " array([[191,  46],\n",
       "        [ 14,  21]]),\n",
       " array([[197,  40],\n",
       "        [ 13,  22]]),\n",
       " array([[198,  39],\n",
       "        [ 15,  20]])]"
      ]
     },
     "execution_count": 45,
     "metadata": {},
     "output_type": "execute_result"
    }
   ],
   "source": [
    "bp_etc.confs_re"
   ]
  },
  {
   "cell_type": "code",
   "execution_count": 46,
   "metadata": {},
   "outputs": [
    {
     "data": {
      "text/plain": [
       "[62.16216216216216]"
      ]
     },
     "execution_count": 46,
     "metadata": {},
     "output_type": "execute_result"
    }
   ],
   "source": [
    "bp_etc.sens_un"
   ]
  },
  {
   "cell_type": "code",
   "execution_count": 47,
   "metadata": {},
   "outputs": [
    {
     "data": {
      "text/plain": [
       "[83.4983498349835]"
      ]
     },
     "execution_count": 47,
     "metadata": {},
     "output_type": "execute_result"
    }
   ],
   "source": [
    "bp_etc.specs_un"
   ]
  },
  {
   "cell_type": "code",
   "execution_count": 48,
   "metadata": {},
   "outputs": [
    {
     "data": {
      "text/plain": [
       "[0.8366225724739658]"
      ]
     },
     "execution_count": 48,
     "metadata": {},
     "output_type": "execute_result"
    }
   ],
   "source": [
    "bp_etc.f1s_un"
   ]
  },
  {
   "cell_type": "code",
   "execution_count": 49,
   "metadata": {},
   "outputs": [
    {
     "data": {
      "text/plain": [
       "[array([[253,  50],\n",
       "        [ 14,  23]])]"
      ]
     },
     "execution_count": 49,
     "metadata": {},
     "output_type": "execute_result"
    }
   ],
   "source": [
    "bp_etc.confs_un"
   ]
  },
  {
   "cell_type": "code",
   "execution_count": 50,
   "metadata": {},
   "outputs": [
    {
     "data": {
      "image/png": "[encoded data removed]",
      "text/plain": [
       "<Figure size 576x568.8 with 2 Axes>"
      ]
     },
     "metadata": {
      "needs_background": "light"
     },
     "output_type": "display_data"
    }
   ],
   "source": [
    "etc_shap_re = shap.TreeExplainer(bp_etc.model)\n",
    "shap_vals = etc_shap_re.shap_values(bp_etc.data_re['X'])\n",
    "\n",
    "shap.summary_plot(shap_vals[1],bp_etc.data_re['X'].astype('float64'))"
   ]
  },
  {
   "cell_type": "code",
   "execution_count": 51,
   "metadata": {},
   "outputs": [
    {
     "name": "stdout",
     "output_type": "stream",
     "text": [
      "(1000,)\n",
      "(1000,)\n",
      "(2000,)\n"
     ]
    }
   ],
   "source": [
    "print(bp_etc.data_re['Y'][bp_etc.data_re['Y']==0].shape)\n",
    "print(bp_etc.data_re['Y'][bp_etc.data_re['Y']==1].shape)\n",
    "print(bp_etc.data_re['Y'][bp_etc.data_re['Y']<=1].shape)"
   ]
  },
  {
   "cell_type": "code",
   "execution_count": 52,
   "metadata": {},
   "outputs": [],
   "source": [
    "results = []"
   ]
  },
  {
   "cell_type": "code",
   "execution_count": 53,
   "metadata": {},
   "outputs": [
    {
     "ename": "AttributeError",
     "evalue": "'BasePredictor' object has no attribute 'sens'",
     "output_type": "error",
     "traceback": [
      "\u001b[0;31m---------------------------------------------------------------------------\u001b[0m",
      "\u001b[0;31mAttributeError\u001b[0m                            Traceback (most recent call last)",
      "\u001b[1;32m/Users/akshatgupta/Desktop/MortalityPrediction/traditional_models.ipynb Cell 39\u001b[0m in \u001b[0;36m<cell line: 1>\u001b[0;34m()\u001b[0m\n\u001b[0;32m----> <a href='vscode-notebook-cell:/Users/akshatgupta/Desktop/MortalityPrediction/traditional_models.ipynb#X53sZmlsZQ%3D%3D?line=0'>1</a>\u001b[0m results\u001b[39m.\u001b[39mappend([\u001b[39m\"\u001b[39m\u001b[39mRSF\u001b[39m\u001b[39m\"\u001b[39m, \u001b[39msum\u001b[39m(bp_rsf\u001b[39m.\u001b[39;49msens)\u001b[39m/\u001b[39m\u001b[39m5\u001b[39m, \u001b[39msum\u001b[39m(bp_rsf\u001b[39m.\u001b[39mspecs)\u001b[39m/\u001b[39m\u001b[39m5\u001b[39m, \u001b[39msum\u001b[39m(bp_rsf\u001b[39m.\u001b[39mf1s)\u001b[39m/\u001b[39m\u001b[39m5\u001b[39m, \u001b[39mNone\u001b[39;00m,\n\u001b[1;32m      <a href='vscode-notebook-cell:/Users/akshatgupta/Desktop/MortalityPrediction/traditional_models.ipynb#X53sZmlsZQ%3D%3D?line=1'>2</a>\u001b[0m                 \u001b[39msum\u001b[39m(bp_rsf_resampled\u001b[39m.\u001b[39msens)\u001b[39m/\u001b[39m\u001b[39m5\u001b[39m, \u001b[39msum\u001b[39m(bp_rsf_resampled\u001b[39m.\u001b[39mspecs)\u001b[39m/\u001b[39m\u001b[39m5\u001b[39m, \u001b[39msum\u001b[39m(bp_rsf_resampled\u001b[39m.\u001b[39mf1s)\u001b[39m/\u001b[39m\u001b[39m5\u001b[39m])\n",
      "\u001b[0;31mAttributeError\u001b[0m: 'BasePredictor' object has no attribute 'sens'"
     ]
    }
   ],
   "source": [
    "results.append([\"RSF\", sum(bp_rsf.sens)/5, sum(bp_rsf.specs)/5, sum(bp_rsf.f1s)/5, None,\n",
    "                sum(bp_rsf_resampled.sens)/5, sum(bp_rsf_resampled.specs)/5, sum(bp_rsf_resampled.f1s)/5])"
   ]
  },
  {
   "cell_type": "code",
   "execution_count": null,
   "metadata": {},
   "outputs": [],
   "source": [
    "results.append([\"ExtraTree\", sum(bp_etc.sens)/5, sum(bp_etc.specs)/5, sum(bp_etc.f1s)/5, None,\n",
    "                sum(bp_etc_resampled.sens)/5, sum(bp_etc_resampled.specs)/5, sum(bp_etc_resampled.f1s)/5])"
   ]
  },
  {
   "cell_type": "code",
   "execution_count": null,
   "metadata": {},
   "outputs": [],
   "source": [
    "results.append([\"LogitR\", sum(bp_logr.sens)/5, sum(bp_logr.specs)/5, sum(bp_logr.f1s)/5, None,\n",
    "                sum(bp_logr_resampled.sens)/5, sum(bp_logr_resampled.specs)/5, sum(bp_logr_resampled.f1s)/5])"
   ]
  },
  {
   "cell_type": "code",
   "execution_count": null,
   "metadata": {},
   "outputs": [],
   "source": [
    "df_results = pd.DataFrame(data=results,\n",
    "            columns=[\"Model\", \"Sensitivity\",\"Specificity\",\"F1-score\", None, \"Sensitivity (w/ resampling)\",\"Specificity (w/ resampling)\",\"F1-Score (w/ resampling)\"])"
   ]
  },
  {
   "cell_type": "code",
   "execution_count": null,
   "metadata": {},
   "outputs": [],
   "source": [
    "df_results.to_excel(\"results/traditional_model_results.xlsx\")"
   ]
  }
 ],
 "metadata": {
  "kernelspec": {
   "display_name": "Python 3",
   "language": "python",
   "name": "python3"
  },
  "language_info": {
   "codemirror_mode": {
    "name": "ipython",
    "version": 3
   },
   "file_extension": ".py",
   "mimetype": "text/x-python",
   "name": "python",
   "nbconvert_exporter": "python",
   "pygments_lexer": "ipython3",
   "version": "3.10.4"
  },
  "orig_nbformat": 4
 },
 "nbformat": 4,
 "nbformat_minor": 2
}
