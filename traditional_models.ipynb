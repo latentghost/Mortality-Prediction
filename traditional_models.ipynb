{
 "cells": [
  {
   "cell_type": "code",
   "execution_count": 1,
   "metadata": {},
   "outputs": [],
   "source": [
    "import pandas as pd\n",
    "import numpy as np\n",
    "\n",
    "from sklearn.ensemble import RandomForestClassifier\n",
    "from sklearn.ensemble import ExtraTreesClassifier\n",
    "from sklearn.linear_model import LogisticRegression\n",
    "from sklearn.linear_model import LinearRegression\n",
    "\n",
    "from sklearn.ensemble import AdaBoostClassifier\n",
    "from xgboost import XGBClassifier\n",
    "from catboost import CatBoostClassifier\n",
    "\n",
    "from baseline_package.base_predictor import BasePredictor"
   ]
  },
  {
   "cell_type": "code",
   "execution_count": 2,
   "metadata": {},
   "outputs": [],
   "source": [
    "d_path = \"dataset/preprocessed.csv\"\n",
    "r_path = \"dataset/resampled.csv\""
   ]
  },
  {
   "cell_type": "code",
   "execution_count": 3,
   "metadata": {},
   "outputs": [],
   "source": [
    "rsf = RandomForestClassifier()\n",
    "\n",
    "param_grid_rsf = {\n",
    "    'criterion' : ['entropy','log_loss'],\n",
    "    'n_estimators' : [50,100,120,150],\n",
    "    'max_depth' : [None],\n",
    "    'min_samples_split' : [4,5,6],\n",
    "    'min_samples_leaf' : [2,3,4],\n",
    "    'max_leaf_nodes' : [None],\n",
    "    'bootstrap' : [False],\n",
    "    'max_features' : ['sqrt','log2'],\n",
    "    'min_weight_fraction_leaf' : [0.0],\n",
    "    'class_weight' : [{0:1, 1:5},'balanced'],\n",
    "    'warm_start' : [False],\n",
    "    'ccp_alpha' : [0.005,0.01]\n",
    "}\n",
    "\n",
    "bp_rsf = BasePredictor(model = rsf, d_path = d_path, param_grid = param_grid_rsf, n_splits = 5)\n",
    "bp_rsf.run(features = None, select_path = None)"
   ]
  },
  {
   "cell_type": "code",
   "execution_count": 4,
   "metadata": {},
   "outputs": [
    {
     "data": {
      "text/plain": [
       "[64.28571428571429,\n",
       " 47.61904761904761,\n",
       " 40.476190476190474,\n",
       " 61.904761904761905,\n",
       " 85.71428571428571]"
      ]
     },
     "execution_count": 4,
     "metadata": {},
     "output_type": "execute_result"
    }
   ],
   "source": [
    "bp_rsf.sens"
   ]
  },
  {
   "cell_type": "code",
   "execution_count": 5,
   "metadata": {},
   "outputs": [
    {
     "data": {
      "text/plain": [
       "[74.16107382550335,\n",
       " 86.24161073825503,\n",
       " 90.93959731543623,\n",
       " 82.88590604026845,\n",
       " 65.1006711409396]"
      ]
     },
     "execution_count": 5,
     "metadata": {},
     "output_type": "execute_result"
    }
   ],
   "source": [
    "bp_rsf.specs"
   ]
  },
  {
   "cell_type": "code",
   "execution_count": 6,
   "metadata": {},
   "outputs": [
    {
     "data": {
      "text/plain": [
       "{'bootstrap': False,\n",
       " 'ccp_alpha': 0.01,\n",
       " 'class_weight': 'balanced',\n",
       " 'criterion': 'entropy',\n",
       " 'max_depth': None,\n",
       " 'max_features': 'sqrt',\n",
       " 'max_leaf_nodes': None,\n",
       " 'min_samples_leaf': 2,\n",
       " 'min_samples_split': 5,\n",
       " 'min_weight_fraction_leaf': 0.0,\n",
       " 'n_estimators': 100,\n",
       " 'warm_start': False}"
      ]
     },
     "execution_count": 6,
     "metadata": {},
     "output_type": "execute_result"
    }
   ],
   "source": [
    "bp_rsf.best_params"
   ]
  },
  {
   "cell_type": "code",
   "execution_count": 7,
   "metadata": {},
   "outputs": [
    {
     "data": {
      "text/plain": [
       "[array([[221,  77],\n",
       "        [ 15,  27]]),\n",
       " array([[257,  41],\n",
       "        [ 22,  20]]),\n",
       " array([[271,  27],\n",
       "        [ 25,  17]]),\n",
       " array([[247,  51],\n",
       "        [ 16,  26]]),\n",
       " array([[194, 104],\n",
       "        [  6,  36]])]"
      ]
     },
     "execution_count": 7,
     "metadata": {},
     "output_type": "execute_result"
    }
   ],
   "source": [
    "bp_rsf.confs"
   ]
  },
  {
   "cell_type": "code",
   "execution_count": 8,
   "metadata": {},
   "outputs": [],
   "source": [
    "rsf = RandomForestClassifier()\n",
    "\n",
    "param_grid_rsf_re = {\n",
    "    'criterion' : ['entropy','log_loss'],\n",
    "    'n_estimators' : [50,70,100,120,150],\n",
    "    'max_depth' : [None],\n",
    "    'min_samples_split' : [4,5,6],\n",
    "    'min_samples_leaf' : [2,3,4],\n",
    "    'max_leaf_nodes' : [None],\n",
    "    'bootstrap' : [False],\n",
    "    'max_features' : ['sqrt','log2'],\n",
    "    'min_weight_fraction_leaf' : [0.0],\n",
    "    'class_weight' : [{0:1, 1:5},'balanced'],\n",
    "    'warm_start' : [False],\n",
    "    'ccp_alpha' : [0.005,0.01]\n",
    "}\n",
    "\n",
    "bp_rsf_resampled = BasePredictor(model = rsf, d_path = r_path, param_grid = param_grid_rsf_re, n_splits = 5)\n",
    "bp_rsf_resampled.run(features = None, select_path = None)"
   ]
  },
  {
   "cell_type": "code",
   "execution_count": 9,
   "metadata": {},
   "outputs": [
    {
     "data": {
      "text/plain": [
       "[87.0, 82.0, 87.0, 83.0, 83.5]"
      ]
     },
     "execution_count": 9,
     "metadata": {},
     "output_type": "execute_result"
    }
   ],
   "source": [
    "bp_rsf_resampled.sens"
   ]
  },
  {
   "cell_type": "code",
   "execution_count": 10,
   "metadata": {},
   "outputs": [
    {
     "data": {
      "text/plain": [
       "[80.0, 83.5, 82.0, 88.0, 86.5]"
      ]
     },
     "execution_count": 10,
     "metadata": {},
     "output_type": "execute_result"
    }
   ],
   "source": [
    "bp_rsf_resampled.specs"
   ]
  },
  {
   "cell_type": "code",
   "execution_count": 11,
   "metadata": {},
   "outputs": [
    {
     "data": {
      "text/plain": [
       "[array([[160,  40],\n",
       "        [ 26, 174]]),\n",
       " array([[167,  33],\n",
       "        [ 36, 164]]),\n",
       " array([[164,  36],\n",
       "        [ 26, 174]]),\n",
       " array([[176,  24],\n",
       "        [ 34, 166]]),\n",
       " array([[173,  27],\n",
       "        [ 33, 167]])]"
      ]
     },
     "execution_count": 11,
     "metadata": {},
     "output_type": "execute_result"
    }
   ],
   "source": [
    "bp_rsf_resampled.confs"
   ]
  },
  {
   "cell_type": "code",
   "execution_count": 12,
   "metadata": {},
   "outputs": [
    {
     "data": {
      "text/plain": [
       "{'bootstrap': False,\n",
       " 'ccp_alpha': 0.005,\n",
       " 'class_weight': 'balanced',\n",
       " 'criterion': 'entropy',\n",
       " 'max_depth': None,\n",
       " 'max_features': 'log2',\n",
       " 'max_leaf_nodes': None,\n",
       " 'min_samples_leaf': 2,\n",
       " 'min_samples_split': 6,\n",
       " 'min_weight_fraction_leaf': 0.0,\n",
       " 'n_estimators': 70,\n",
       " 'warm_start': False}"
      ]
     },
     "execution_count": 12,
     "metadata": {},
     "output_type": "execute_result"
    }
   ],
   "source": [
    "bp_rsf_resampled.best_params"
   ]
  },
  {
   "cell_type": "code",
   "execution_count": 13,
   "metadata": {},
   "outputs": [],
   "source": [
    "log_r = LogisticRegression()\n",
    "\n",
    "param_grid_logr = {\n",
    "    'penalty' : ['l2'],\n",
    "    'dual' : [False],\n",
    "    'tol' : [1e-3,1e-4],\n",
    "    'C' : [0.3,0.29,0.28,0.277,0.275,0.274,0.273,0.27],\n",
    "    'fit_intercept' : [True],\n",
    "    'class_weight' : [{0:1, 1:42},{0:1,1:20},'balanced'],\n",
    "    'solver' : ['lbfgs','newton-cg'],\n",
    "    'max_iter' : [5000,1000],\n",
    "    'warm_start' : [False],\n",
    "    'n_jobs' : [None        ],\n",
    "    'multi_class' : ['auto'],\n",
    "    'l1_ratio' : [None],\n",
    "}\n",
    "\n",
    "bp_logr = BasePredictor(model = log_r, d_path = d_path, param_grid = param_grid_logr, n_splits = 5)\n",
    "bp_logr.run(features = None, select_path = None)"
   ]
  },
  {
   "cell_type": "code",
   "execution_count": 14,
   "metadata": {},
   "outputs": [
    {
     "data": {
      "text/plain": [
       "[73.80952380952381,\n",
       " 54.761904761904766,\n",
       " 47.61904761904761,\n",
       " 64.28571428571429,\n",
       " 83.33333333333334]"
      ]
     },
     "execution_count": 14,
     "metadata": {},
     "output_type": "execute_result"
    }
   ],
   "source": [
    "bp_logr.sens"
   ]
  },
  {
   "cell_type": "code",
   "execution_count": 15,
   "metadata": {},
   "outputs": [
    {
     "data": {
      "text/plain": [
       "[72.81879194630872,\n",
       " 85.57046979865773,\n",
       " 87.58389261744966,\n",
       " 80.20134228187919,\n",
       " 65.77181208053692]"
      ]
     },
     "execution_count": 15,
     "metadata": {},
     "output_type": "execute_result"
    }
   ],
   "source": [
    "bp_logr.specs"
   ]
  },
  {
   "cell_type": "code",
   "execution_count": 16,
   "metadata": {},
   "outputs": [
    {
     "data": {
      "text/plain": [
       "{'C': 0.28,\n",
       " 'class_weight': 'balanced',\n",
       " 'dual': False,\n",
       " 'fit_intercept': True,\n",
       " 'l1_ratio': None,\n",
       " 'max_iter': 5000,\n",
       " 'multi_class': 'auto',\n",
       " 'n_jobs': None,\n",
       " 'penalty': 'l2',\n",
       " 'solver': 'lbfgs',\n",
       " 'tol': 0.001,\n",
       " 'warm_start': False}"
      ]
     },
     "execution_count": 16,
     "metadata": {},
     "output_type": "execute_result"
    }
   ],
   "source": [
    "bp_logr.best_params"
   ]
  },
  {
   "cell_type": "code",
   "execution_count": 17,
   "metadata": {},
   "outputs": [
    {
     "data": {
      "text/plain": [
       "[array([[217,  81],\n",
       "        [ 11,  31]]),\n",
       " array([[255,  43],\n",
       "        [ 19,  23]]),\n",
       " array([[261,  37],\n",
       "        [ 22,  20]]),\n",
       " array([[239,  59],\n",
       "        [ 15,  27]]),\n",
       " array([[196, 102],\n",
       "        [  7,  35]])]"
      ]
     },
     "execution_count": 17,
     "metadata": {},
     "output_type": "execute_result"
    }
   ],
   "source": [
    "bp_logr.confs"
   ]
  },
  {
   "cell_type": "code",
   "execution_count": 19,
   "metadata": {},
   "outputs": [],
   "source": [
    "log_r = LogisticRegression()\n",
    "\n",
    "param_grid_logr_re = {\n",
    "    'penalty' : ['l2'],\n",
    "    'dual' : [False],\n",
    "    'tol' : [1e-3,1e-4],\n",
    "    'C' : [0.3,0.29,0.28,0.277,0.275,0.274,0.273,0.27],\n",
    "    'fit_intercept' : [True],\n",
    "    'class_weight' : [{0:1, 1:42},{0:1,1:20},'balanced'],\n",
    "    'solver' : ['lbfgs','newton-cg'],\n",
    "    'max_iter' : [5000,1000],\n",
    "    'warm_start' : [False],\n",
    "    'n_jobs' : [None        ],\n",
    "    'multi_class' : ['auto'],\n",
    "    'l1_ratio' : [None],\n",
    "}\n",
    "\n",
    "bp_logr_resampled = BasePredictor(model = log_r, d_path = r_path, param_grid = param_grid_logr_re, n_splits = 5)\n",
    "bp_logr_resampled.run(features = None, select_path = None)"
   ]
  },
  {
   "cell_type": "code",
   "execution_count": 20,
   "metadata": {},
   "outputs": [
    {
     "data": {
      "text/plain": [
       "[67.5, 62.0, 73.0, 71.5, 64.0]"
      ]
     },
     "execution_count": 20,
     "metadata": {},
     "output_type": "execute_result"
    }
   ],
   "source": [
    "bp_logr_resampled.sens"
   ]
  },
  {
   "cell_type": "code",
   "execution_count": 25,
   "metadata": {},
   "outputs": [
    {
     "data": {
      "text/plain": [
       "[78.0, 81.0, 78.0, 80.5, 82.5]"
      ]
     },
     "execution_count": 25,
     "metadata": {},
     "output_type": "execute_result"
    }
   ],
   "source": [
    "bp_logr_resampled.specs"
   ]
  },
  {
   "cell_type": "code",
   "execution_count": 26,
   "metadata": {},
   "outputs": [
    {
     "data": {
      "text/plain": [
       "[array([[156,  44],\n",
       "        [ 65, 135]]),\n",
       " array([[162,  38],\n",
       "        [ 76, 124]]),\n",
       " array([[156,  44],\n",
       "        [ 54, 146]]),\n",
       " array([[161,  39],\n",
       "        [ 57, 143]]),\n",
       " array([[165,  35],\n",
       "        [ 72, 128]])]"
      ]
     },
     "execution_count": 26,
     "metadata": {},
     "output_type": "execute_result"
    }
   ],
   "source": [
    "bp_logr_resampled.confs"
   ]
  },
  {
   "cell_type": "code",
   "execution_count": 27,
   "metadata": {},
   "outputs": [
    {
     "data": {
      "text/plain": [
       "{'C': 0.3,\n",
       " 'class_weight': 'balanced',\n",
       " 'dual': False,\n",
       " 'fit_intercept': True,\n",
       " 'l1_ratio': None,\n",
       " 'max_iter': 5000,\n",
       " 'multi_class': 'auto',\n",
       " 'n_jobs': None,\n",
       " 'penalty': 'l2',\n",
       " 'solver': 'lbfgs',\n",
       " 'tol': 0.001,\n",
       " 'warm_start': False}"
      ]
     },
     "execution_count": 27,
     "metadata": {},
     "output_type": "execute_result"
    }
   ],
   "source": [
    "bp_logr_resampled.best_params"
   ]
  },
  {
   "cell_type": "code",
   "execution_count": 48,
   "metadata": {},
   "outputs": [],
   "source": [
    "etc = ExtraTreesClassifier()\n",
    "\n",
    "param_grid_etc = {\n",
    "    'criterion' : ['gini','entropy','log_loss'],\n",
    "    'max_depth' : [None],\n",
    "    'min_samples_split' : [2,3,4],\n",
    "    'min_samples_leaf' : [2,3],\n",
    "    'min_weight_fraction_leaf' : [0.0],\n",
    "    'max_features' : ['sqrt','log2'],\n",
    "    'max_leaf_nodes' : [None],\n",
    "    'min_impurity_decrease' : [0.0],\n",
    "    'bootstrap' : [True, False],\n",
    "    'class_weight' : [{0:1,1:5},'balanced'],\n",
    "    'warm_start' : [False],\n",
    "    'ccp_alpha' : [0.007,0.005],\n",
    "    'random_state' : [0]\n",
    "}\n",
    "\n",
    "bp_etc = BasePredictor(model = etc, d_path = d_path, param_grid = param_grid_etc, n_splits = 5)\n",
    "bp_etc.run(features = None, select_path = None)"
   ]
  },
  {
   "cell_type": "code",
   "execution_count": 49,
   "metadata": {},
   "outputs": [
    {
     "data": {
      "text/plain": [
       "[61.904761904761905,\n",
       " 47.61904761904761,\n",
       " 40.476190476190474,\n",
       " 69.04761904761905,\n",
       " 85.71428571428571]"
      ]
     },
     "execution_count": 49,
     "metadata": {},
     "output_type": "execute_result"
    }
   ],
   "source": [
    "bp_etc.sens"
   ]
  },
  {
   "cell_type": "code",
   "execution_count": 50,
   "metadata": {},
   "outputs": [
    {
     "data": {
      "text/plain": [
       "[77.85234899328859,\n",
       " 94.63087248322147,\n",
       " 91.94630872483222,\n",
       " 86.91275167785236,\n",
       " 72.14765100671141]"
      ]
     },
     "execution_count": 50,
     "metadata": {},
     "output_type": "execute_result"
    }
   ],
   "source": [
    "bp_etc.specs"
   ]
  },
  {
   "cell_type": "code",
   "execution_count": 51,
   "metadata": {},
   "outputs": [
    {
     "data": {
      "text/plain": [
       "[array([[232,  66],\n",
       "        [ 16,  26]]),\n",
       " array([[282,  16],\n",
       "        [ 22,  20]]),\n",
       " array([[274,  24],\n",
       "        [ 25,  17]]),\n",
       " array([[259,  39],\n",
       "        [ 13,  29]]),\n",
       " array([[215,  83],\n",
       "        [  6,  36]])]"
      ]
     },
     "execution_count": 51,
     "metadata": {},
     "output_type": "execute_result"
    }
   ],
   "source": [
    "bp_etc.confs"
   ]
  },
  {
   "cell_type": "code",
   "execution_count": 52,
   "metadata": {},
   "outputs": [
    {
     "data": {
      "text/plain": [
       "{'bootstrap': False,\n",
       " 'ccp_alpha': 0.005,\n",
       " 'class_weight': 'balanced',\n",
       " 'criterion': 'entropy',\n",
       " 'max_depth': None,\n",
       " 'max_features': 'sqrt',\n",
       " 'max_leaf_nodes': None,\n",
       " 'min_impurity_decrease': 0.0,\n",
       " 'min_samples_leaf': 2,\n",
       " 'min_samples_split': 2,\n",
       " 'min_weight_fraction_leaf': 0.0,\n",
       " 'random_state': 0,\n",
       " 'warm_start': False}"
      ]
     },
     "execution_count": 52,
     "metadata": {},
     "output_type": "execute_result"
    }
   ],
   "source": [
    "bp_etc.best_params"
   ]
  },
  {
   "cell_type": "code",
   "execution_count": 53,
   "metadata": {},
   "outputs": [],
   "source": [
    "etc = ExtraTreesClassifier()\n",
    "\n",
    "param_grid_etc_re = {\n",
    "    'criterion' : ['gini','entropy','log_loss'],\n",
    "    'max_depth' : [None],\n",
    "    'min_samples_split' : [2,3,4],\n",
    "    'min_samples_leaf' : [1,2],\n",
    "    'min_weight_fraction_leaf' : [0.0],\n",
    "    'max_features' : ['sqrt','log2'],\n",
    "    'max_leaf_nodes' : [None],\n",
    "    'min_impurity_decrease' : [0.0],\n",
    "    'bootstrap' : [True, False],\n",
    "    'class_weight' : [{0:1,1:5},'balanced'],\n",
    "    'warm_start' : [False],\n",
    "    'ccp_alpha' : [0.0,0.005],\n",
    "    'random_state' : [0]\n",
    "}\n",
    "\n",
    "bp_etc_resampled = BasePredictor(model = etc, d_path = r_path, param_grid = param_grid_etc_re, n_splits = 5)\n",
    "bp_etc_resampled.run(features = None, select_path = None)"
   ]
  },
  {
   "cell_type": "code",
   "execution_count": 54,
   "metadata": {},
   "outputs": [
    {
     "data": {
      "text/plain": [
       "[99.0, 98.5, 98.5, 100.0, 100.0]"
      ]
     },
     "execution_count": 54,
     "metadata": {},
     "output_type": "execute_result"
    }
   ],
   "source": [
    "bp_etc_resampled.sens"
   ]
  },
  {
   "cell_type": "code",
   "execution_count": 55,
   "metadata": {},
   "outputs": [
    {
     "data": {
      "text/plain": [
       "[95.5, 95.5, 95.0, 96.5, 96.5]"
      ]
     },
     "execution_count": 55,
     "metadata": {},
     "output_type": "execute_result"
    }
   ],
   "source": [
    "bp_etc_resampled.specs"
   ]
  },
  {
   "cell_type": "code",
   "execution_count": 56,
   "metadata": {},
   "outputs": [
    {
     "data": {
      "text/plain": [
       "[array([[191,   9],\n",
       "        [  2, 198]]),\n",
       " array([[191,   9],\n",
       "        [  3, 197]]),\n",
       " array([[190,  10],\n",
       "        [  3, 197]]),\n",
       " array([[193,   7],\n",
       "        [  0, 200]]),\n",
       " array([[193,   7],\n",
       "        [  0, 200]])]"
      ]
     },
     "execution_count": 56,
     "metadata": {},
     "output_type": "execute_result"
    }
   ],
   "source": [
    "bp_etc_resampled.confs"
   ]
  },
  {
   "cell_type": "code",
   "execution_count": 57,
   "metadata": {},
   "outputs": [
    {
     "data": {
      "text/plain": [
       "{'bootstrap': False,\n",
       " 'ccp_alpha': 0.0,\n",
       " 'class_weight': {0: 1, 1: 5},\n",
       " 'criterion': 'entropy',\n",
       " 'max_depth': None,\n",
       " 'max_features': 'sqrt',\n",
       " 'max_leaf_nodes': None,\n",
       " 'min_impurity_decrease': 0.0,\n",
       " 'min_samples_leaf': 1,\n",
       " 'min_samples_split': 2,\n",
       " 'min_weight_fraction_leaf': 0.0,\n",
       " 'random_state': 0,\n",
       " 'warm_start': False}"
      ]
     },
     "execution_count": 57,
     "metadata": {},
     "output_type": "execute_result"
    }
   ],
   "source": [
    "bp_etc_resampled.best_params"
   ]
  },
  {
   "cell_type": "code",
   "execution_count": null,
   "metadata": {},
   "outputs": [],
   "source": []
  }
 ],
 "metadata": {
  "kernelspec": {
   "display_name": "Python 3",
   "language": "python",
   "name": "python3"
  },
  "language_info": {
   "codemirror_mode": {
    "name": "ipython",
    "version": 3
   },
   "file_extension": ".py",
   "mimetype": "text/x-python",
   "name": "python",
   "nbconvert_exporter": "python",
   "pygments_lexer": "ipython3",
   "version": "3.10.4"
  },
  "orig_nbformat": 4
 },
 "nbformat": 4,
 "nbformat_minor": 2
}
