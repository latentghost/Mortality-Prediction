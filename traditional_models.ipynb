{
 "cells": [
  {
   "cell_type": "code",
   "execution_count": 1,
   "metadata": {},
   "outputs": [],
   "source": [
    "import pandas as pd\n",
    "import numpy as np\n",
    "\n",
    "from sklearn.ensemble import RandomForestClassifier\n",
    "from sklearn.ensemble import ExtraTreesClassifier\n",
    "from sklearn.linear_model import LogisticRegression\n",
    "from sklearn.linear_model import LinearRegression\n",
    "\n",
    "from sklearn.ensemble import AdaBoostClassifier\n",
    "from xgboost import XGBClassifier\n",
    "from catboost import CatBoostClassifier\n",
    "\n",
    "from baseline_package.base_predictor import BasePredictor"
   ]
  },
  {
   "cell_type": "code",
   "execution_count": 2,
   "metadata": {},
   "outputs": [],
   "source": [
    "path = \"dataset/preprocessed.csv\""
   ]
  },
  {
   "cell_type": "code",
   "execution_count": 3,
   "metadata": {},
   "outputs": [],
   "source": [
    "features = [\n",
    "    'Age', 'Sex_Female', 'Diabetes Mellitus_Yes',\n",
    "    'Hypertension_Yes', 'Hyperlipidemia_Yes',\n",
    "    'Time since symptoms onset to first medical contact_1-3 days',\n",
    "    'Time since symptoms onset to first medical contact_1-3 hours',\n",
    "    'Time since symptoms onset to first medical contact_12-24 hours',\n",
    "    'Time since symptoms onset to first medical contact_3-12 hours',\n",
    "    'Time since symptoms onset to first medical contact_<1 hour',\n",
    "    'Heart Rate>100_2', 'PRESENCE OF MITRAL REGURGITATION_Moderate',\n",
    "    'PRESENCE OF MITRAL REGURGITATION_Severe', 'VSD_Yes',\n",
    "    'LV ANEURYSM_Yes', 'KILLIP II-IV_2', 'Time to Treatment >4 Hours_1',\n",
    "    'TIMI', 'BMI', 'Pack_Year', 'CardiacStatus_Presentation_Cardiogenic Shock',\n",
    "    'CardiacStatus_Presentation_Heart failure', 'MItype_on_ECG_Anterior Wall MI',\n",
    "    'MItype_on_ECG_Inferior Wall MI', 'MItype_on_ECG_Lateral Wall MI', \n",
    "    'MItype_on_ECG_Posterior Wall MI', 'Systolic BP<100_3',\n",
    "    'EJECTION FRACTION(%)_20-25', 'EJECTION FRACTION(%)_25-30',\n",
    "    'EJECTION FRACTION(%)_30-35', 'EJECTION FRACTION(%)_35-40',\n",
    "    'EJECTION FRACTION(%)_40-45', 'EJECTION FRACTION(%)_>50'\n",
    "]"
   ]
  },
  {
   "cell_type": "code",
   "execution_count": 4,
   "metadata": {},
   "outputs": [],
   "source": [
    "rsf = RandomForestClassifier()\n",
    "\n",
    "param_grid_rsf = {\n",
    "    'criterion' : ['entropy','log_loss'],\n",
    "    'n_estimators' : [100,150],\n",
    "    'max_depth' : [None],\n",
    "    'min_samples_split' : [3,4,5],\n",
    "    'min_samples_leaf' : [2,3,4],\n",
    "    'max_leaf_nodes' : [None],\n",
    "    'bootstrap' : [False],\n",
    "    'max_features' : ['sqrt','log2'],\n",
    "    'min_weight_fraction_leaf' : [0.0],\n",
    "    'class_weight' : [{0:1,1:1},{0:1, 1:40},'balanced'],\n",
    "    'warm_start' : [False],\n",
    "    'ccp_alpha' : [0.02,0.01]\n",
    "}\n",
    "\n",
    "bp_rsf = BasePredictor(model = rsf, d_path = path, param_grid = param_grid_rsf, n_splits = 5)\n",
    "bp_rsf.run(features = features, select_path = None)"
   ]
  },
  {
   "cell_type": "code",
   "execution_count": null,
   "metadata": {},
   "outputs": [
    {
     "data": {
      "text/plain": [
       "[62.5, 55.00000000000001, 62.5, 67.5, 68.29268292682927]"
      ]
     },
     "execution_count": 27,
     "metadata": {},
     "output_type": "execute_result"
    }
   ],
   "source": [
    "bp_rsf.sens"
   ]
  },
  {
   "cell_type": "code",
   "execution_count": null,
   "metadata": {},
   "outputs": [
    {
     "data": {
      "text/plain": [
       "[79.37062937062937,\n",
       " 84.26573426573427,\n",
       " 78.32167832167832,\n",
       " 79.72027972027972,\n",
       " 76.84210526315789]"
      ]
     },
     "execution_count": 28,
     "metadata": {},
     "output_type": "execute_result"
    }
   ],
   "source": [
    "bp_rsf.specs"
   ]
  },
  {
   "cell_type": "code",
   "execution_count": null,
   "metadata": {},
   "outputs": [
    {
     "data": {
      "text/plain": [
       "{'bootstrap': False,\n",
       " 'ccp_alpha': 0.01,\n",
       " 'class_weight': 'balanced',\n",
       " 'criterion': 'entropy',\n",
       " 'max_depth': None,\n",
       " 'max_features': 'log2',\n",
       " 'max_leaf_nodes': None,\n",
       " 'min_samples_leaf': 2,\n",
       " 'min_samples_split': 2,\n",
       " 'min_weight_fraction_leaf': 0.0,\n",
       " 'n_estimators': 50,\n",
       " 'warm_start': False}"
      ]
     },
     "execution_count": 29,
     "metadata": {},
     "output_type": "execute_result"
    }
   ],
   "source": [
    "bp_rsf.best_params"
   ]
  },
  {
   "cell_type": "code",
   "execution_count": null,
   "metadata": {},
   "outputs": [],
   "source": [
    "log_r = LogisticRegression()\n",
    "\n",
    "param_grid_logr = {\n",
    "    'penalty' : ['l2'],\n",
    "    'dual' : [False],\n",
    "    'tol' : [1e-3,1e-4],\n",
    "    'C' : [0.3,0.29,0.28,0.277,0.275,0.274,0.273,0.27,0.267,0.265,0.263,0.26,0.25],\n",
    "    'fit_intercept' : [True],\n",
    "    'class_weight' : [{0:1, 1:15},{0:1,1:20},'balanced'],\n",
    "    'solver' : ['lbfgs','newton-cg'],\n",
    "    'max_iter' : [5000,10000],\n",
    "    'warm_start' : [False],\n",
    "    'n_jobs' : [None,-1],\n",
    "    'multi_class' : ['auto'],\n",
    "    'l1_ratio' : [None],\n",
    "}\n",
    "\n",
    "bp_logr = BasePredictor(model = log_r, d_path = path, param_grid = param_grid_logr, n_splits = 5)\n",
    "bp_logr.run(features = features, select_path = None)"
   ]
  },
  {
   "cell_type": "code",
   "execution_count": null,
   "metadata": {},
   "outputs": [
    {
     "data": {
      "text/plain": [
       "[67.5, 57.49999999999999, 60.0, 70.0, 75.60975609756098]"
      ]
     },
     "execution_count": 68,
     "metadata": {},
     "output_type": "execute_result"
    }
   ],
   "source": [
    "bp_logr.sens"
   ]
  },
  {
   "cell_type": "code",
   "execution_count": null,
   "metadata": {},
   "outputs": [
    {
     "data": {
      "text/plain": [
       "[68.53146853146853,\n",
       " 78.67132867132867,\n",
       " 81.46853146853147,\n",
       " 75.52447552447552,\n",
       " 75.78947368421053]"
      ]
     },
     "execution_count": 69,
     "metadata": {},
     "output_type": "execute_result"
    }
   ],
   "source": [
    "bp_logr.specs"
   ]
  },
  {
   "cell_type": "code",
   "execution_count": null,
   "metadata": {},
   "outputs": [
    {
     "data": {
      "text/plain": [
       "{'C': 0.275,\n",
       " 'class_weight': 'balanced',\n",
       " 'dual': False,\n",
       " 'fit_intercept': True,\n",
       " 'l1_ratio': None,\n",
       " 'max_iter': 5000,\n",
       " 'multi_class': 'auto',\n",
       " 'n_jobs': None,\n",
       " 'penalty': 'l2',\n",
       " 'solver': 'newton-cg',\n",
       " 'tol': 0.001,\n",
       " 'warm_start': False}"
      ]
     },
     "execution_count": 70,
     "metadata": {},
     "output_type": "execute_result"
    }
   ],
   "source": [
    "bp_logr.best_params"
   ]
  },
  {
   "cell_type": "code",
   "execution_count": null,
   "metadata": {},
   "outputs": [
    {
     "data": {
      "text/plain": [
       "[array([[196,  90],\n",
       "        [ 13,  27]]),\n",
       " array([[225,  61],\n",
       "        [ 17,  23]]),\n",
       " array([[233,  53],\n",
       "        [ 16,  24]]),\n",
       " array([[216,  70],\n",
       "        [ 12,  28]]),\n",
       " array([[216,  69],\n",
       "        [ 10,  31]])]"
      ]
     },
     "execution_count": 71,
     "metadata": {},
     "output_type": "execute_result"
    }
   ],
   "source": [
    "bp_logr.confs"
   ]
  },
  {
   "cell_type": "code",
   "execution_count": null,
   "metadata": {},
   "outputs": [],
   "source": []
  }
 ],
 "metadata": {
  "kernelspec": {
   "display_name": "Python 3",
   "language": "python",
   "name": "python3"
  },
  "language_info": {
   "codemirror_mode": {
    "name": "ipython",
    "version": 3
   },
   "file_extension": ".py",
   "mimetype": "text/x-python",
   "name": "python",
   "nbconvert_exporter": "python",
   "pygments_lexer": "ipython3",
   "version": "3.10.4"
  },
  "orig_nbformat": 4
 },
 "nbformat": 4,
 "nbformat_minor": 2
}
