{
 "cells": [
  {
   "cell_type": "code",
   "execution_count": 19,
   "metadata": {},
   "outputs": [],
   "source": [
    "import pandas as pd\n",
    "from sklearn.preprocessing import StandardScaler"
   ]
  },
  {
   "cell_type": "code",
   "execution_count": 20,
   "metadata": {},
   "outputs": [],
   "source": [
    "file_name = \"../dataset/raw/master_sheet.xlsx\"\n",
    "sheet_name = \"Sheet1\""
   ]
  },
  {
   "cell_type": "code",
   "execution_count": 21,
   "metadata": {},
   "outputs": [],
   "source": [
    "xl_sheet = pd.read_excel(file_name,sheet_name=sheet_name)"
   ]
  },
  {
   "cell_type": "code",
   "execution_count": 22,
   "metadata": {},
   "outputs": [],
   "source": [
    "csv_path = \"../dataset/raw/master_sheet.csv\"\n",
    "xl_sheet.to_csv(csv_path, index=False)"
   ]
  },
  {
   "cell_type": "code",
   "execution_count": 23,
   "metadata": {},
   "outputs": [
    {
     "data": {
      "text/html": [
       "<div>\n",
       "<style scoped>\n",
       "    .dataframe tbody tr th:only-of-type {\n",
       "        vertical-align: middle;\n",
       "    }\n",
       "\n",
       "    .dataframe tbody tr th {\n",
       "        vertical-align: top;\n",
       "    }\n",
       "\n",
       "    .dataframe thead th {\n",
       "        text-align: right;\n",
       "    }\n",
       "</style>\n",
       "<table border=\"1\" class=\"dataframe\">\n",
       "  <thead>\n",
       "    <tr style=\"text-align: right;\">\n",
       "      <th></th>\n",
       "      <th>ID</th>\n",
       "      <th>Age</th>\n",
       "      <th>Sex</th>\n",
       "      <th>Presentation</th>\n",
       "      <th>Admission_Date</th>\n",
       "      <th>Admission Time</th>\n",
       "      <th>father</th>\n",
       "      <th>mother</th>\n",
       "      <th>firstdeg</th>\n",
       "      <th>seconddeg</th>\n",
       "      <th>...</th>\n",
       "      <th>OnD_Anticoagulant</th>\n",
       "      <th>OnD_INSULIN</th>\n",
       "      <th>OnD_Oral_Anti_glycemics</th>\n",
       "      <th>OnD_Non_statin_lipid_drugs</th>\n",
       "      <th>30 days Follow up Done Date</th>\n",
       "      <th>Method</th>\n",
       "      <th>Follow Up Status</th>\n",
       "      <th>Reinfarction</th>\n",
       "      <th>Hospitalization for Heart Failure</th>\n",
       "      <th>Stroke</th>\n",
       "    </tr>\n",
       "  </thead>\n",
       "  <tbody>\n",
       "    <tr>\n",
       "      <th>0</th>\n",
       "      <td>DT01</td>\n",
       "      <td>45</td>\n",
       "      <td>Male</td>\n",
       "      <td>Direct</td>\n",
       "      <td>2021-07-29</td>\n",
       "      <td>14:10:00</td>\n",
       "      <td>No</td>\n",
       "      <td>No</td>\n",
       "      <td>No</td>\n",
       "      <td>No</td>\n",
       "      <td>...</td>\n",
       "      <td>No</td>\n",
       "      <td>No</td>\n",
       "      <td>No</td>\n",
       "      <td>No</td>\n",
       "      <td>2021-08-31</td>\n",
       "      <td>Telephonic</td>\n",
       "      <td>Alive</td>\n",
       "      <td>No</td>\n",
       "      <td>Yes</td>\n",
       "      <td>No</td>\n",
       "    </tr>\n",
       "    <tr>\n",
       "      <th>1</th>\n",
       "      <td>DT02</td>\n",
       "      <td>61</td>\n",
       "      <td>Male</td>\n",
       "      <td>Referral</td>\n",
       "      <td>2021-07-29</td>\n",
       "      <td>14:40:00</td>\n",
       "      <td>No</td>\n",
       "      <td>No</td>\n",
       "      <td>No</td>\n",
       "      <td>No</td>\n",
       "      <td>...</td>\n",
       "      <td>Yes</td>\n",
       "      <td>No</td>\n",
       "      <td>Yes</td>\n",
       "      <td>No</td>\n",
       "      <td>2021-08-31</td>\n",
       "      <td>Telephonic</td>\n",
       "      <td>Alive</td>\n",
       "      <td>No</td>\n",
       "      <td>No</td>\n",
       "      <td>No</td>\n",
       "    </tr>\n",
       "    <tr>\n",
       "      <th>2</th>\n",
       "      <td>DT03</td>\n",
       "      <td>45</td>\n",
       "      <td>Male</td>\n",
       "      <td>Referral</td>\n",
       "      <td>2021-07-28</td>\n",
       "      <td>17:10:00</td>\n",
       "      <td>No</td>\n",
       "      <td>No</td>\n",
       "      <td>No</td>\n",
       "      <td>No</td>\n",
       "      <td>...</td>\n",
       "      <td>No</td>\n",
       "      <td>No</td>\n",
       "      <td>Yes</td>\n",
       "      <td>No</td>\n",
       "      <td>2021-08-31</td>\n",
       "      <td>Telephonic</td>\n",
       "      <td>Deceased</td>\n",
       "      <td>No</td>\n",
       "      <td>No</td>\n",
       "      <td>No</td>\n",
       "    </tr>\n",
       "    <tr>\n",
       "      <th>3</th>\n",
       "      <td>DT04</td>\n",
       "      <td>50</td>\n",
       "      <td>Male</td>\n",
       "      <td>Referral</td>\n",
       "      <td>2021-07-29</td>\n",
       "      <td>14:20:00</td>\n",
       "      <td>No</td>\n",
       "      <td>No</td>\n",
       "      <td>No</td>\n",
       "      <td>No</td>\n",
       "      <td>...</td>\n",
       "      <td>Yes</td>\n",
       "      <td>No</td>\n",
       "      <td>No</td>\n",
       "      <td>No</td>\n",
       "      <td>2021-08-31</td>\n",
       "      <td>Telephonic</td>\n",
       "      <td>Alive</td>\n",
       "      <td>No</td>\n",
       "      <td>No</td>\n",
       "      <td>No</td>\n",
       "    </tr>\n",
       "    <tr>\n",
       "      <th>4</th>\n",
       "      <td>DT05</td>\n",
       "      <td>70</td>\n",
       "      <td>Female</td>\n",
       "      <td>Direct</td>\n",
       "      <td>2021-07-27</td>\n",
       "      <td>12:30:00</td>\n",
       "      <td>No</td>\n",
       "      <td>No</td>\n",
       "      <td>No</td>\n",
       "      <td>No</td>\n",
       "      <td>...</td>\n",
       "      <td>Yes</td>\n",
       "      <td>No</td>\n",
       "      <td>Yes</td>\n",
       "      <td>No</td>\n",
       "      <td>2021-08-31</td>\n",
       "      <td>Telephonic</td>\n",
       "      <td>Alive</td>\n",
       "      <td>No</td>\n",
       "      <td>No</td>\n",
       "      <td>No</td>\n",
       "    </tr>\n",
       "  </tbody>\n",
       "</table>\n",
       "<p>5 rows × 162 columns</p>\n",
       "</div>"
      ],
      "text/plain": [
       "     ID  Age     Sex Presentation Admission_Date Admission Time father mother  \\\n",
       "0  DT01   45    Male       Direct     2021-07-29       14:10:00     No     No   \n",
       "1  DT02   61    Male     Referral     2021-07-29       14:40:00     No     No   \n",
       "2  DT03   45    Male     Referral     2021-07-28       17:10:00     No     No   \n",
       "3  DT04   50    Male     Referral     2021-07-29       14:20:00     No     No   \n",
       "4  DT05   70  Female       Direct     2021-07-27       12:30:00     No     No   \n",
       "\n",
       "  firstdeg seconddeg  ... OnD_Anticoagulant OnD_INSULIN  \\\n",
       "0       No        No  ...                No          No   \n",
       "1       No        No  ...               Yes          No   \n",
       "2       No        No  ...                No          No   \n",
       "3       No        No  ...               Yes          No   \n",
       "4       No        No  ...               Yes          No   \n",
       "\n",
       "  OnD_Oral_Anti_glycemics OnD_Non_statin_lipid_drugs  \\\n",
       "0                      No                         No   \n",
       "1                     Yes                         No   \n",
       "2                     Yes                         No   \n",
       "3                      No                         No   \n",
       "4                     Yes                         No   \n",
       "\n",
       "  30 days Follow up Done Date      Method Follow Up Status Reinfarction  \\\n",
       "0                  2021-08-31  Telephonic            Alive           No   \n",
       "1                  2021-08-31  Telephonic            Alive           No   \n",
       "2                  2021-08-31  Telephonic         Deceased           No   \n",
       "3                  2021-08-31  Telephonic            Alive           No   \n",
       "4                  2021-08-31  Telephonic            Alive           No   \n",
       "\n",
       "  Hospitalization for Heart Failure Stroke  \n",
       "0                               Yes     No  \n",
       "1                                No     No  \n",
       "2                                No     No  \n",
       "3                                No     No  \n",
       "4                                No     No  \n",
       "\n",
       "[5 rows x 162 columns]"
      ]
     },
     "execution_count": 23,
     "metadata": {},
     "output_type": "execute_result"
    }
   ],
   "source": [
    "df = pd.read_csv(csv_path)\n",
    "df = df.iloc[:,1:-16]\n",
    "df.head()"
   ]
  },
  {
   "cell_type": "code",
   "execution_count": 24,
   "metadata": {},
   "outputs": [],
   "source": [
    "def replace(val):\n",
    "    if isinstance(val,str):\n",
    "        if(val==\"No\"):\n",
    "            return 0\n",
    "        else:\n",
    "            if(val.isdigit() or val.isdecimal()):\n",
    "                return float(val)\n",
    "            else:\n",
    "                return val\n",
    "    else:\n",
    "        return val"
   ]
  },
  {
   "cell_type": "code",
   "execution_count": 25,
   "metadata": {},
   "outputs": [],
   "source": [
    "def convert_time(t):\n",
    "    h,m,s = map(int,t.split(':'))\n",
    "    return h*60 + m + s/60"
   ]
  },
  {
   "cell_type": "code",
   "execution_count": 26,
   "metadata": {},
   "outputs": [],
   "source": [
    "num = ['Age', 'Number of Cigarettes Beedi per day', 'Number of years smoked', 'Height', 'Weight', 'Heart_Rate', 'BP_Systolic', 'BP_Diastolic',\n",
    "        'Exact Time of Symptom Onset', 'BASELINE SERUM CREATININE', 'HAEMOGLOBIN', 'HBA1C', 'Total_cholesterol', 'LDL', 'HDL', 'Triglycerides',\n",
    "        'APO B(g/l)', 'Liporotein A', 'Admission Time'\n",
    "      ]\n",
    "\n",
    "cat = ['Sex','Presentation','father','mother', 'firstdeg', 'seconddeg', 'Atrial fib flutter', 'Heart Failure', 'PriorPCI', 'Diabetes Mellitus', 'Cancer',\n",
    "        'Hypertension', 'On Dialysis', 'Prior CABG', 'Hyperlipidemia', 'Prior MI', 'PAD', 'Prior CVA', 'Prior Angina', 'Physical_Activity',\n",
    "        'Average_Sleep_Duration', 'Stress_Home', 'Stress_Work_Related', 'Stress_General', 'Tobacco_Use', 'Beedi', 'Cigarette', 'Hookah', 'Tobacco Chewing',\n",
    "        'Multiple ', 'Alcohol', 'Gym_Supplements', 'Cannabis', 'Cocaine', 'Walking', 'ASPRIN', 'STATIN', 'P2Y12 Inhibitors', 'Beta_blocker', 'CalciumChannel',\n",
    "        'ACE ARB', 'Aldosterone Blocking Antagonist', 'ARNI', 'Anticoagulant', 'INSULIN', 'Oral Anti glycemics', 'Non statin lipid drugs', 'Homeopathy',\n",
    "        'Ayurveda', 'Symptoms_name', 'PRECEDING_ACTIVITY', 'CardiacStatus_Presentation', 'Time since symptoms onset to first medical contact',\n",
    "        'Mode_of_transport', 'Type of First Medical Contact', 'Nature of Treatment', 'MItype_on_ECG', 'ASPIRIN', 'STATIN.1', 'P2Y12 Inhibitors.1',\n",
    "        'Beta blocker', 'THROMBOLYSIS', 'RWMA', 'Trop_T', 'Coronary_angiography', 'Age 65-74/>75', 'Systolic BP<100', 'Heart Rate>100', 'KILLIP II-IV',\n",
    "        'Anterior STE or LBBB', 'H/O Diabetes, HTN or Angina', 'Weight < 67 Kgs', 'Time to Treatment >4 Hours', 'EJECTION FRACTION(%)',\n",
    "        'PRESENCE OF MITRAL REGURGITATION', 'LV THROMBUS', 'VSD', 'LV ANEURYSM', 'ACUTE_MR', 'Time_since_symptom_onset_to_1st_ECG'\n",
    "       ]"
   ]
  },
  {
   "cell_type": "code",
   "execution_count": 27,
   "metadata": {},
   "outputs": [],
   "source": [
    "df['Exact Time of Symptom Onset'] = df['Exact Time of Symptom Onset'].apply(lambda x: convert_time(x))\n",
    "df['Admission Time'] = df['Admission Time'].apply(lambda x: convert_time(x))"
   ]
  },
  {
   "cell_type": "code",
   "execution_count": 28,
   "metadata": {},
   "outputs": [],
   "source": [
    "for col in df.columns:\n",
    "    df[col] = df[col].fillna(0)"
   ]
  },
  {
   "cell_type": "code",
   "execution_count": 29,
   "metadata": {},
   "outputs": [],
   "source": [
    "for col in num:\n",
    "    df[col] = df[col].apply(lambda x: replace(x))"
   ]
  },
  {
   "cell_type": "code",
   "execution_count": 30,
   "metadata": {},
   "outputs": [],
   "source": [
    "target = df[\"Follow Up Status\"]"
   ]
  },
  {
   "cell_type": "code",
   "execution_count": 31,
   "metadata": {},
   "outputs": [],
   "source": [
    "df_num = df[num]\n",
    "df_cat = df[cat]\n",
    "\n",
    "df_cat = pd.get_dummies(df_cat, columns=cat, drop_first=False, dtype='int64')"
   ]
  },
  {
   "cell_type": "code",
   "execution_count": 32,
   "metadata": {},
   "outputs": [
    {
     "name": "stderr",
     "output_type": "stream",
     "text": [
      "/var/folders/fx/m8jghh2j0xn7xvzxjj0rz1sr0000gn/T/ipykernel_45320/525154266.py:1: SettingWithCopyWarning: \n",
      "A value is trying to be set on a copy of a slice from a DataFrame.\n",
      "Try using .loc[row_indexer,col_indexer] = value instead\n",
      "\n",
      "See the caveats in the documentation: https://pandas.pydata.org/pandas-docs/stable/user_guide/indexing.html#returning-a-view-versus-a-copy\n",
      "  df_num.loc[:,'Pack_Year'] = df_num['Number of Cigarettes Beedi per day']/20 + df_num['Number of years smoked']\n",
      "/var/folders/fx/m8jghh2j0xn7xvzxjj0rz1sr0000gn/T/ipykernel_45320/525154266.py:2: SettingWithCopyWarning: \n",
      "A value is trying to be set on a copy of a slice from a DataFrame.\n",
      "Try using .loc[row_indexer,col_indexer] = value instead\n",
      "\n",
      "See the caveats in the documentation: https://pandas.pydata.org/pandas-docs/stable/user_guide/indexing.html#returning-a-view-versus-a-copy\n",
      "  df_num.loc[:,'BMI'] = df_num['Weight']/((df_num['Height']/100)**2)\n"
     ]
    }
   ],
   "source": [
    "df_num.loc[:,'Pack_Year'] = df_num['Number of Cigarettes Beedi per day']/20 + df_num['Number of years smoked']\n",
    "df_num.loc[:,'BMI'] = df_num['Weight']/((df_num['Height']/100)**2)"
   ]
  },
  {
   "cell_type": "code",
   "execution_count": 33,
   "metadata": {},
   "outputs": [],
   "source": [
    "df_num = pd.DataFrame(StandardScaler().fit_transform(df_num), columns=df_num.columns)"
   ]
  },
  {
   "cell_type": "code",
   "execution_count": 34,
   "metadata": {},
   "outputs": [],
   "source": [
    "df = pd.concat([df_num,df_cat],axis=1)\n",
    "df = pd.concat([df,target],axis=1)"
   ]
  },
  {
   "cell_type": "code",
   "execution_count": 35,
   "metadata": {},
   "outputs": [],
   "source": [
    "csv_path = \"../dataset/preprocessed.csv\""
   ]
  },
  {
   "cell_type": "code",
   "execution_count": 36,
   "metadata": {},
   "outputs": [],
   "source": [
    "df.to_csv(csv_path, index=False)"
   ]
  }
 ],
 "metadata": {
  "interpreter": {
   "hash": "aee8b7b246df8f9039afb4144a1f6fd8d2ca17a180786b69acc140d282b71a49"
  },
  "kernelspec": {
   "display_name": "Python 3.10.4 64-bit",
   "language": "python",
   "name": "python3"
  },
  "language_info": {
   "codemirror_mode": {
    "name": "ipython",
    "version": 3
   },
   "file_extension": ".py",
   "mimetype": "text/x-python",
   "name": "python",
   "nbconvert_exporter": "python",
   "pygments_lexer": "ipython3",
   "version": "3.10.4"
  },
  "orig_nbformat": 4
 },
 "nbformat": 4,
 "nbformat_minor": 2
}
