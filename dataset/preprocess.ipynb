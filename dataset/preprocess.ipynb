{
 "cells": [
  {
   "cell_type": "code",
   "execution_count": 1,
   "metadata": {},
   "outputs": [],
   "source": [
    "import pandas as pd\n",
    "from sklearn.preprocessing import StandardScaler\n",
    "from sklearn.utils import resample"
   ]
  },
  {
   "cell_type": "code",
   "execution_count": 2,
   "metadata": {},
   "outputs": [],
   "source": [
    "file_name = \"../dataset/raw/new_data.xlsx\"\n",
    "sheet_name = \"Sheet1\""
   ]
  },
  {
   "cell_type": "code",
   "execution_count": 3,
   "metadata": {},
   "outputs": [],
   "source": [
    "xl_sheet = pd.read_excel(file_name,sheet_name=sheet_name)"
   ]
  },
  {
   "cell_type": "code",
   "execution_count": 4,
   "metadata": {},
   "outputs": [],
   "source": [
    "csv_path = \"../dataset/raw/new_data.csv\"\n",
    "xl_sheet.to_csv(csv_path, index=False)"
   ]
  },
  {
   "cell_type": "code",
   "execution_count": 5,
   "metadata": {},
   "outputs": [
    {
     "data": {
      "text/html": [
       "<div>\n",
       "<style scoped>\n",
       "    .dataframe tbody tr th:only-of-type {\n",
       "        vertical-align: middle;\n",
       "    }\n",
       "\n",
       "    .dataframe tbody tr th {\n",
       "        vertical-align: top;\n",
       "    }\n",
       "\n",
       "    .dataframe thead th {\n",
       "        text-align: right;\n",
       "    }\n",
       "</style>\n",
       "<table border=\"1\" class=\"dataframe\">\n",
       "  <thead>\n",
       "    <tr style=\"text-align: right;\">\n",
       "      <th></th>\n",
       "      <th>ID</th>\n",
       "      <th>mortality_30_days</th>\n",
       "      <th>6month_mortality</th>\n",
       "      <th>Grace Score (in hospital)</th>\n",
       "      <th>in_Hospital_mortality</th>\n",
       "      <th>Age</th>\n",
       "      <th>Gender_Female</th>\n",
       "      <th>Religion</th>\n",
       "      <th>Presentation</th>\n",
       "      <th>Education</th>\n",
       "      <th>...</th>\n",
       "      <th>OnD_P2Y12_Inhibitors</th>\n",
       "      <th>OnD_Beta_blocker</th>\n",
       "      <th>OnD_Calcium_Channel_Blocker</th>\n",
       "      <th>OnD_ACE_ARB</th>\n",
       "      <th>OnD_Aldosterone_Blocking_Antagonist</th>\n",
       "      <th>OnD_Anticoagulant</th>\n",
       "      <th>OnD_INSULIN</th>\n",
       "      <th>OnD_Oral_Anti_glycemics</th>\n",
       "      <th>OnD_0n_statin_lipid_drugs</th>\n",
       "      <th>Anterior STE or LBBB</th>\n",
       "    </tr>\n",
       "  </thead>\n",
       "  <tbody>\n",
       "    <tr>\n",
       "      <th>0</th>\n",
       "      <td>DT 723</td>\n",
       "      <td>0</td>\n",
       "      <td>0</td>\n",
       "      <td>138</td>\n",
       "      <td>0</td>\n",
       "      <td>46</td>\n",
       "      <td>0</td>\n",
       "      <td>Muslim</td>\n",
       "      <td>Referral</td>\n",
       "      <td>Illiterate</td>\n",
       "      <td>...</td>\n",
       "      <td>1</td>\n",
       "      <td>1</td>\n",
       "      <td>0</td>\n",
       "      <td>1</td>\n",
       "      <td>0</td>\n",
       "      <td>0</td>\n",
       "      <td>0</td>\n",
       "      <td>0</td>\n",
       "      <td>0</td>\n",
       "      <td>0</td>\n",
       "    </tr>\n",
       "    <tr>\n",
       "      <th>1</th>\n",
       "      <td>DT 261</td>\n",
       "      <td>0</td>\n",
       "      <td>0</td>\n",
       "      <td>177</td>\n",
       "      <td>0</td>\n",
       "      <td>73</td>\n",
       "      <td>0</td>\n",
       "      <td>Hindu</td>\n",
       "      <td>Referral</td>\n",
       "      <td>Middle School</td>\n",
       "      <td>...</td>\n",
       "      <td>1</td>\n",
       "      <td>1</td>\n",
       "      <td>1</td>\n",
       "      <td>1</td>\n",
       "      <td>0</td>\n",
       "      <td>0</td>\n",
       "      <td>0</td>\n",
       "      <td>0</td>\n",
       "      <td>0</td>\n",
       "      <td>1</td>\n",
       "    </tr>\n",
       "    <tr>\n",
       "      <th>2</th>\n",
       "      <td>DT 849</td>\n",
       "      <td>0</td>\n",
       "      <td>0</td>\n",
       "      <td>148</td>\n",
       "      <td>0</td>\n",
       "      <td>70</td>\n",
       "      <td>0</td>\n",
       "      <td>Hindu</td>\n",
       "      <td>Direct</td>\n",
       "      <td>High School Completed</td>\n",
       "      <td>...</td>\n",
       "      <td>1</td>\n",
       "      <td>1</td>\n",
       "      <td>0</td>\n",
       "      <td>1</td>\n",
       "      <td>0</td>\n",
       "      <td>0</td>\n",
       "      <td>0</td>\n",
       "      <td>0</td>\n",
       "      <td>0</td>\n",
       "      <td>1</td>\n",
       "    </tr>\n",
       "    <tr>\n",
       "      <th>3</th>\n",
       "      <td>DT 264</td>\n",
       "      <td>0</td>\n",
       "      <td>0</td>\n",
       "      <td>221</td>\n",
       "      <td>0</td>\n",
       "      <td>62</td>\n",
       "      <td>0</td>\n",
       "      <td>Muslim</td>\n",
       "      <td>Referral</td>\n",
       "      <td>Middle School</td>\n",
       "      <td>...</td>\n",
       "      <td>1</td>\n",
       "      <td>0</td>\n",
       "      <td>0</td>\n",
       "      <td>0</td>\n",
       "      <td>0</td>\n",
       "      <td>0</td>\n",
       "      <td>0</td>\n",
       "      <td>0</td>\n",
       "      <td>0</td>\n",
       "      <td>1</td>\n",
       "    </tr>\n",
       "    <tr>\n",
       "      <th>4</th>\n",
       "      <td>DT 1297</td>\n",
       "      <td>0</td>\n",
       "      <td>1</td>\n",
       "      <td>216</td>\n",
       "      <td>0</td>\n",
       "      <td>65</td>\n",
       "      <td>0</td>\n",
       "      <td>Hindu</td>\n",
       "      <td>Direct</td>\n",
       "      <td>Illiterate</td>\n",
       "      <td>...</td>\n",
       "      <td>1</td>\n",
       "      <td>0</td>\n",
       "      <td>0</td>\n",
       "      <td>0</td>\n",
       "      <td>0</td>\n",
       "      <td>0</td>\n",
       "      <td>0</td>\n",
       "      <td>0</td>\n",
       "      <td>0</td>\n",
       "      <td>1</td>\n",
       "    </tr>\n",
       "  </tbody>\n",
       "</table>\n",
       "<p>5 rows × 134 columns</p>\n",
       "</div>"
      ],
      "text/plain": [
       "        ID  mortality_30_days  6month_mortality  Grace Score (in hospital)  \\\n",
       "0   DT 723                  0                 0                        138   \n",
       "1   DT 261                  0                 0                        177   \n",
       "2   DT 849                  0                 0                        148   \n",
       "3   DT 264                  0                 0                        221   \n",
       "4  DT 1297                  0                 1                        216   \n",
       "\n",
       "   in_Hospital_mortality  Age  Gender_Female Religion Presentation  \\\n",
       "0                      0   46              0   Muslim     Referral   \n",
       "1                      0   73              0    Hindu     Referral   \n",
       "2                      0   70              0    Hindu       Direct   \n",
       "3                      0   62              0   Muslim     Referral   \n",
       "4                      0   65              0    Hindu       Direct   \n",
       "\n",
       "               Education  ... OnD_P2Y12_Inhibitors OnD_Beta_blocker  \\\n",
       "0             Illiterate  ...                    1                1   \n",
       "1          Middle School  ...                    1                1   \n",
       "2  High School Completed  ...                    1                1   \n",
       "3          Middle School  ...                    1                0   \n",
       "4             Illiterate  ...                    1                0   \n",
       "\n",
       "  OnD_Calcium_Channel_Blocker OnD_ACE_ARB OnD_Aldosterone_Blocking_Antagonist  \\\n",
       "0                           0           1                                   0   \n",
       "1                           1           1                                   0   \n",
       "2                           0           1                                   0   \n",
       "3                           0           0                                   0   \n",
       "4                           0           0                                   0   \n",
       "\n",
       "   OnD_Anticoagulant  OnD_INSULIN  OnD_Oral_Anti_glycemics  \\\n",
       "0                  0            0                        0   \n",
       "1                  0            0                        0   \n",
       "2                  0            0                        0   \n",
       "3                  0            0                        0   \n",
       "4                  0            0                        0   \n",
       "\n",
       "   OnD_0n_statin_lipid_drugs  Anterior STE or LBBB  \n",
       "0                          0                     0  \n",
       "1                          0                     1  \n",
       "2                          0                     1  \n",
       "3                          0                     1  \n",
       "4                          0                     1  \n",
       "\n",
       "[5 rows x 134 columns]"
      ]
     },
     "execution_count": 5,
     "metadata": {},
     "output_type": "execute_result"
    }
   ],
   "source": [
    "df = pd.read_csv(csv_path)\n",
    "df.head()"
   ]
  },
  {
   "cell_type": "code",
   "execution_count": 6,
   "metadata": {},
   "outputs": [],
   "source": [
    "def timi_score_to_mortality_percentage(timi_score):\n",
    "    if timi_score == 0:\n",
    "        return 0.8\n",
    "    elif timi_score == 1:\n",
    "        return 1.6\n",
    "    elif timi_score == 2:\n",
    "        return 2.2\n",
    "    elif timi_score == 3:\n",
    "        return 4.4\n",
    "    elif timi_score == 4:\n",
    "        return 7.3\n",
    "    elif timi_score == 5:\n",
    "        return 12.4\n",
    "    elif timi_score == 6:\n",
    "        return 16.1\n",
    "    elif timi_score == 7:\n",
    "        return 23.4\n",
    "    elif timi_score == 8:\n",
    "        return 26.8\n",
    "    else:\n",
    "        return 35.9"
   ]
  },
  {
   "cell_type": "code",
   "execution_count": 7,
   "metadata": {},
   "outputs": [],
   "source": [
    "def replace(val):\n",
    "    if isinstance(val,str):\n",
    "        if(val==\"No\"):\n",
    "            return 0\n",
    "        else:\n",
    "            if(val.isdigit() or val.isdecimal()):\n",
    "                return float(val)\n",
    "            else:\n",
    "                return val\n",
    "    else:\n",
    "        return val"
   ]
  },
  {
   "cell_type": "code",
   "execution_count": 8,
   "metadata": {},
   "outputs": [],
   "source": [
    "def convert_time(t):\n",
    "    h,m,s = map(int,t.split(':'))\n",
    "    return h*60 + m + s/60"
   ]
  },
  {
   "cell_type": "code",
   "execution_count": 9,
   "metadata": {},
   "outputs": [],
   "source": [
    "df['TIMI'] = df['TIMI_new'].apply(timi_score_to_mortality_percentage)\n",
    "df['Pack_Year'] = df['Number of Cigarettes Beedi per day']/20 + df['Number of years smoked']\n",
    "df['BMI'] = df['Weight']/((df['Height']/100)**2)"
   ]
  },
  {
   "cell_type": "code",
   "execution_count": 10,
   "metadata": {},
   "outputs": [],
   "source": [
    "for col in df.columns:\n",
    "    df[col] = df[col].fillna(0)"
   ]
  },
  {
   "cell_type": "code",
   "execution_count": 11,
   "metadata": {},
   "outputs": [],
   "source": [
    "columns = [\n",
    "    'mortality_30_days', 'Age', 'Gender_Female', 'Diabetes Mellitus',\n",
    "    'Hypertension', 'CardiacStatus_Presentation',\n",
    "    'EJECTION FRACTION(%)', 'MR_Moderate', 'MR_Severe',\n",
    "    'VSR', 'LV ANEURYSM', 'KILLIP_new', 'TIMI', 'Pack_Year', 'BMI'\n",
    "]"
   ]
  },
  {
   "cell_type": "code",
   "execution_count": 12,
   "metadata": {},
   "outputs": [],
   "source": [
    "df = df[columns]"
   ]
  },
  {
   "cell_type": "code",
   "execution_count": 13,
   "metadata": {},
   "outputs": [],
   "source": [
    "num = [\n",
    "    'Age', 'Pack_Year', 'BMI', 'KILLIP_new'\n",
    "]\n",
    "\n",
    "cat = [\n",
    "    'Gender_Female', 'Diabetes Mellitus',\n",
    "    'Hypertension', 'CardiacStatus_Presentation',\n",
    "    'EJECTION FRACTION(%)', 'MR_Moderate', 'MR_Severe',\n",
    "    'VSR', 'LV ANEURYSM', 'KILLIP_new', 'TIMI'\n",
    "]\n",
    "\n",
    "dummy = [\n",
    "    'CardiacStatus_Presentation', 'EJECTION FRACTION(%)'\n",
    "]"
   ]
  },
  {
   "cell_type": "code",
   "execution_count": 14,
   "metadata": {},
   "outputs": [
    {
     "data": {
      "text/plain": [
       "Index(['mortality_30_days', 'Age', 'Gender_Female', 'Diabetes Mellitus',\n",
       "       'Hypertension', 'CardiacStatus_Presentation', 'EJECTION FRACTION(%)',\n",
       "       'MR_Moderate', 'MR_Severe', 'VSR', 'LV ANEURYSM', 'KILLIP_new', 'TIMI',\n",
       "       'Pack_Year', 'BMI'],\n",
       "      dtype='object')"
      ]
     },
     "execution_count": 14,
     "metadata": {},
     "output_type": "execute_result"
    }
   ],
   "source": [
    "df.columns"
   ]
  },
  {
   "cell_type": "code",
   "execution_count": 15,
   "metadata": {},
   "outputs": [],
   "source": [
    "target = df[\"mortality_30_days\"]"
   ]
  },
  {
   "cell_type": "code",
   "execution_count": 16,
   "metadata": {},
   "outputs": [],
   "source": [
    "df_num = df[num]\n",
    "df_cat = df[cat]"
   ]
  },
  {
   "cell_type": "code",
   "execution_count": 17,
   "metadata": {},
   "outputs": [],
   "source": [
    "df_cat = pd.get_dummies(df_cat, columns = dummy, drop_first=False, dtype = 'uint8')"
   ]
  },
  {
   "cell_type": "code",
   "execution_count": 18,
   "metadata": {},
   "outputs": [],
   "source": [
    "df_cat = df_cat.drop(columns=['CardiacStatus_Presentation_Chest Pain'],axis=1)"
   ]
  },
  {
   "cell_type": "code",
   "execution_count": 19,
   "metadata": {},
   "outputs": [],
   "source": [
    "df_num = pd.DataFrame(StandardScaler().fit_transform(df_num), columns=df_num.columns)"
   ]
  },
  {
   "cell_type": "code",
   "execution_count": 20,
   "metadata": {},
   "outputs": [],
   "source": [
    "df = pd.concat([df_num,df_cat],axis=1)\n",
    "df = pd.concat([df,target],axis=1)"
   ]
  },
  {
   "cell_type": "code",
   "execution_count": 21,
   "metadata": {},
   "outputs": [],
   "source": [
    "df_minority = df[df['mortality_30_days']==1]\n",
    "df_majority = df[df['mortality_30_days']==0]\n",
    "\n",
    "df_minority = resample(df_minority, replace=True, n_samples=1000, random_state=0)\n",
    "df_majority = resample(df_majority, replace=True, n_samples=1000, random_state=0)\n",
    "\n",
    "df_resampled = pd.concat([df_majority,df_minority])"
   ]
  },
  {
   "cell_type": "code",
   "execution_count": 22,
   "metadata": {},
   "outputs": [],
   "source": [
    "csv_path = \"../dataset/preprocessed.csv\"\n",
    "csv_path_resampled = \"../dataset/resampled.csv\""
   ]
  },
  {
   "cell_type": "code",
   "execution_count": 23,
   "metadata": {},
   "outputs": [],
   "source": [
    "df.to_csv(csv_path, index=False)\n",
    "df_resampled.to_csv(csv_path_resampled, index = False)"
   ]
  },
  {
   "cell_type": "code",
   "execution_count": 24,
   "metadata": {},
   "outputs": [
    {
     "data": {
      "text/plain": [
       "Index(['Age', 'Pack_Year', 'BMI', 'KILLIP_new', 'Gender_Female',\n",
       "       'Diabetes Mellitus', 'Hypertension', 'MR_Moderate', 'MR_Severe', 'VSR',\n",
       "       'LV ANEURYSM', 'KILLIP_new', 'TIMI',\n",
       "       'CardiacStatus_Presentation_Cardiogenic Shock',\n",
       "       'CardiacStatus_Presentation_Heart failure',\n",
       "       'EJECTION FRACTION(%)_20-25', 'EJECTION FRACTION(%)_25-30',\n",
       "       'EJECTION FRACTION(%)_30-35', 'EJECTION FRACTION(%)_35-40',\n",
       "       'EJECTION FRACTION(%)_40-45', 'EJECTION FRACTION(%)_>50',\n",
       "       'mortality_30_days'],\n",
       "      dtype='object')"
      ]
     },
     "execution_count": 24,
     "metadata": {},
     "output_type": "execute_result"
    }
   ],
   "source": [
    "df.columns"
   ]
  }
 ],
 "metadata": {
  "interpreter": {
   "hash": "aee8b7b246df8f9039afb4144a1f6fd8d2ca17a180786b69acc140d282b71a49"
  },
  "kernelspec": {
   "display_name": "Python 3.10.4 64-bit",
   "language": "python",
   "name": "python3"
  },
  "language_info": {
   "codemirror_mode": {
    "name": "ipython",
    "version": 3
   },
   "file_extension": ".py",
   "mimetype": "text/x-python",
   "name": "python",
   "nbconvert_exporter": "python",
   "pygments_lexer": "ipython3",
   "version": "3.10.4"
  },
  "orig_nbformat": 4
 },
 "nbformat": 4,
 "nbformat_minor": 2
}
